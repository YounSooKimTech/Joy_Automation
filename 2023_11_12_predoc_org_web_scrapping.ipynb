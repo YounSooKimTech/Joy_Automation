{
  "nbformat": 4,
  "nbformat_minor": 0,
  "metadata": {
    "colab": {
      "provenance": [],
      "authorship_tag": "ABX9TyO6hqx8ZAa9aXwHcf0VGhbY",
      "include_colab_link": true
    },
    "kernelspec": {
      "name": "python3",
      "display_name": "Python 3"
    },
    "language_info": {
      "name": "python"
    }
  },
  "cells": [
    {
      "cell_type": "markdown",
      "metadata": {
        "id": "view-in-github",
        "colab_type": "text"
      },
      "source": [
        "<a href=\"https://colab.research.google.com/github/YounSooKimTech/Joy_Automation/blob/main/2023_11_12_predoc_org_web_scrapping.ipynb\" target=\"_parent\"><img src=\"https://colab.research.google.com/assets/colab-badge.svg\" alt=\"Open In Colab\"/></a>"
      ]
    },
    {
      "cell_type": "code",
      "execution_count": 1,
      "metadata": {
        "id": "CcPHQDCz0Bwk"
      },
      "outputs": [],
      "source": [
        "# ! pip install beautifulsoup4 requests"
      ]
    },
    {
      "cell_type": "markdown",
      "source": [
        "# Web scrap of the following page\n",
        "https://predoc.org/opportunities"
      ],
      "metadata": {
        "id": "OKbASGpN7GM1"
      }
    },
    {
      "cell_type": "code",
      "source": [
        "from bs4 import BeautifulSoup\n",
        "import requests\n",
        "\n",
        "url = \"https://predoc.org/opportunities\"\n",
        "response = requests.get(url, verify=False)\n",
        "soup = BeautifulSoup(response.text, 'html.parser')\n"
      ],
      "metadata": {
        "colab": {
          "base_uri": "https://localhost:8080/"
        },
        "id": "Utcvns1g7HmC",
        "outputId": "203453d6-1466-4b05-f905-24bcd8388b05"
      },
      "execution_count": 15,
      "outputs": [
        {
          "output_type": "stream",
          "name": "stderr",
          "text": [
            "/usr/local/lib/python3.10/dist-packages/urllib3/connectionpool.py:1100: InsecureRequestWarning: Unverified HTTPS request is being made to host 'predoc.org'. Adding certificate verification is strongly advised. See: https://urllib3.readthedocs.io/en/latest/advanced-usage.html#tls-warnings\n",
            "  warnings.warn(\n"
          ]
        }
      ]
    },
    {
      "cell_type": "code",
      "source": [
        "institutions = []\n",
        "fields = []\n",
        "deadlines = []\n",
        "researchers =[]\n",
        "\n",
        "copy_divs = soup.find_all('div', class_='copy')\n",
        "\n",
        "for copy_div in copy_divs:\n",
        "  temp_text = copy_div.get_text()\n",
        "\n",
        "  temp_researcher = temp_text[temp_text.find(\"Researcher\"):].split(\"\\n\")[0].split(\":\")[-1].strip()\n",
        "  researchers.append(temp_researcher)\n",
        "\n",
        "  temp_field = temp_text[temp_text.find(\"Field\"):].split(\"\\n\")[0].split(\":\")[-1].strip()\n",
        "  if temp_field.lower() == \"field\":\n",
        "    temp_field = \"\"\n",
        "  fields.append(temp_field)\n",
        "\n",
        "  temp_institution = temp_text[temp_text.find(\"Institution\"):].split(\"\\n\")[0].split(\":\")[-1].strip()\n",
        "  institutions.append(temp_institution)\n",
        "\n",
        "  temp_dead = temp_text[temp_text.find(\"Deadline\"):].split(\"\\n\")[0]\n",
        "  temp_dead_split = temp_dead.split(\":\")\n",
        "  if len(temp_dead_split)>1:\n",
        "    deadlines.append(temp_dead_split[1])\n",
        "  else:\n",
        "    deadlines.append(\"\")\n"
      ],
      "metadata": {
        "id": "vKhnXmzT7Hfu"
      },
      "execution_count": 16,
      "outputs": []
    },
    {
      "cell_type": "code",
      "source": [
        "copy_divs = soup.find_all('div', class_='copy')\n",
        "h_links = []\n",
        "\n",
        "for copy_div in copy_divs:\n",
        "  a_tag = copy_div.find(\"a\")\n",
        "  h_links.append(a_tag[\"href\"])"
      ],
      "metadata": {
        "id": "FCzjbPjbeDV5"
      },
      "execution_count": 17,
      "outputs": []
    },
    {
      "cell_type": "code",
      "source": [
        "import pandas as pd\n",
        "\n",
        "df_op = pd.DataFrame({\"Deadline_text\": deadlines,\n",
        "                      \"Institution\":institutions,\n",
        "                      \"Researcher\": researchers,\n",
        "                      \"Field\":fields,\n",
        "                      \"Links\":h_links})\n",
        "df_op.info()"
      ],
      "metadata": {
        "colab": {
          "base_uri": "https://localhost:8080/"
        },
        "id": "c_OQohqHByMz",
        "outputId": "19d04541-c7a0-4d8a-9c14-965f8cb499b5"
      },
      "execution_count": 20,
      "outputs": [
        {
          "output_type": "stream",
          "name": "stdout",
          "text": [
            "<class 'pandas.core.frame.DataFrame'>\n",
            "RangeIndex: 172 entries, 0 to 171\n",
            "Data columns (total 5 columns):\n",
            " #   Column         Non-Null Count  Dtype \n",
            "---  ------         --------------  ----- \n",
            " 0   Deadline_text  172 non-null    object\n",
            " 1   Institution    172 non-null    object\n",
            " 2   Researcher     172 non-null    object\n",
            " 3   Field          172 non-null    object\n",
            " 4   Links          172 non-null    object\n",
            "dtypes: object(5)\n",
            "memory usage: 6.8+ KB\n"
          ]
        }
      ]
    },
    {
      "cell_type": "code",
      "source": [
        "import numpy as np\n",
        "\n",
        "# change the deadline into the consistent form\n",
        "date_pattern = r\"(?i)((?:January|February|March|April|May|June|July|August|September|October|November|December)\\s+\\d{1,2})\"\n",
        "\n",
        "df_op['Deadline'] = df_op['Deadline_text'].str.extract(date_pattern, expand=False)\n",
        "df_op.loc[df_op['Deadline'].isna() & df_op['Deadline_text'].str.contains(r'(?i)rolling'), 'Deadline'] = 'Rolling'\n",
        "df_op.loc[df_op['Deadline'].isna() & df_op['Deadline_text'].str.contains(r'(?i)ASAP'), 'Deadline'] = 'ASAP'"
      ],
      "metadata": {
        "id": "rJqrp2kX7HaF"
      },
      "execution_count": 21,
      "outputs": []
    },
    {
      "cell_type": "code",
      "source": [
        "df_op[\"Deadline\"].value_counts(dropna=False)"
      ],
      "metadata": {
        "colab": {
          "base_uri": "https://localhost:8080/"
        },
        "id": "xZpzIFt9Ssc9",
        "outputId": "2fe613fe-919a-4d41-ac43-99df5670d2d7"
      },
      "execution_count": 22,
      "outputs": [
        {
          "output_type": "execute_result",
          "data": {
            "text/plain": [
              "Rolling         84\n",
              "NaN             25\n",
              "October 15      12\n",
              "October 16       7\n",
              "January 5        4\n",
              "September 17     4\n",
              "ASAP             4\n",
              "September 15     2\n",
              "December 15      2\n",
              "October 6        2\n",
              "November 10      2\n",
              "November 15      2\n",
              "October 20       1\n",
              "August 14        1\n",
              "March 6          1\n",
              "April 30         1\n",
              "April 14         1\n",
              "June 15          1\n",
              "June 16          1\n",
              "July 20          1\n",
              "August 31        1\n",
              "September 1      1\n",
              "January 20       1\n",
              "August 28        1\n",
              "October 31       1\n",
              "September 20     1\n",
              "December 31      1\n",
              "November 1       1\n",
              "October 1        1\n",
              "December 1       1\n",
              "October 4        1\n",
              "February 1       1\n",
              "October 30       1\n",
              "May 31           1\n",
              "Name: Deadline, dtype: int64"
            ]
          },
          "metadata": {},
          "execution_count": 22
        }
      ]
    },
    {
      "cell_type": "code",
      "source": [
        "import pandas as pd\n",
        "from datetime import datetime\n",
        "\n",
        "def convert_date_format(date_text):\n",
        "    if date_text not in ['ASAP', 'Rolling'] and not pd.isna(date_text):\n",
        "        date_obj = datetime.strptime(date_text, \"%B %d\")\n",
        "        formatted_date = date_obj.strftime(\"%m-%d\")\n",
        "        return formatted_date\n",
        "    elif date_text in ['ASAP', 'Rolling']:\n",
        "        return date_text\n",
        "    else:\n",
        "        return date_text\n",
        "\n",
        "df_op[\"Deadline\"] = df_op[\"Deadline\"].apply(convert_date_format)\n",
        "\n",
        "df_op.head(2)\n"
      ],
      "metadata": {
        "colab": {
          "base_uri": "https://localhost:8080/",
          "height": 146
        },
        "id": "sP_2l-BmXO4Y",
        "outputId": "688c4eee-860b-4fea-fef3-182a2de106e8"
      },
      "execution_count": 29,
      "outputs": [
        {
          "output_type": "execute_result",
          "data": {
            "text/plain": [
              "      Deadline_text                                        Institution  \\\n",
              "0   January 5, 2024  Northwestern University, Kellogg School of Man...   \n",
              "1   January 5, 2024  Northwestern University, Kellogg School of Man...   \n",
              "\n",
              "                   Researcher  \\\n",
              "0              Ameet Morjaria   \n",
              "1  Chethana Achar, Jake Teeny   \n",
              "\n",
              "                                               Field                   Links  \\\n",
              "0  Economic Development, Political Economy, Organ...  https://bit.ly/40fe8cz   \n",
              "1            Behavioral Marketing, Consumer Behavior  https://bit.ly/46dKaa2   \n",
              "\n",
              "  Deadline  \n",
              "0    01-05  \n",
              "1    01-05  "
            ],
            "text/html": [
              "\n",
              "  <div id=\"df-bf2f120f-3f4e-455e-8ac7-ec80cb73b886\" class=\"colab-df-container\">\n",
              "    <div>\n",
              "<style scoped>\n",
              "    .dataframe tbody tr th:only-of-type {\n",
              "        vertical-align: middle;\n",
              "    }\n",
              "\n",
              "    .dataframe tbody tr th {\n",
              "        vertical-align: top;\n",
              "    }\n",
              "\n",
              "    .dataframe thead th {\n",
              "        text-align: right;\n",
              "    }\n",
              "</style>\n",
              "<table border=\"1\" class=\"dataframe\">\n",
              "  <thead>\n",
              "    <tr style=\"text-align: right;\">\n",
              "      <th></th>\n",
              "      <th>Deadline_text</th>\n",
              "      <th>Institution</th>\n",
              "      <th>Researcher</th>\n",
              "      <th>Field</th>\n",
              "      <th>Links</th>\n",
              "      <th>Deadline</th>\n",
              "    </tr>\n",
              "  </thead>\n",
              "  <tbody>\n",
              "    <tr>\n",
              "      <th>0</th>\n",
              "      <td>January 5, 2024</td>\n",
              "      <td>Northwestern University, Kellogg School of Man...</td>\n",
              "      <td>Ameet Morjaria</td>\n",
              "      <td>Economic Development, Political Economy, Organ...</td>\n",
              "      <td>https://bit.ly/40fe8cz</td>\n",
              "      <td>01-05</td>\n",
              "    </tr>\n",
              "    <tr>\n",
              "      <th>1</th>\n",
              "      <td>January 5, 2024</td>\n",
              "      <td>Northwestern University, Kellogg School of Man...</td>\n",
              "      <td>Chethana Achar, Jake Teeny</td>\n",
              "      <td>Behavioral Marketing, Consumer Behavior</td>\n",
              "      <td>https://bit.ly/46dKaa2</td>\n",
              "      <td>01-05</td>\n",
              "    </tr>\n",
              "  </tbody>\n",
              "</table>\n",
              "</div>\n",
              "    <div class=\"colab-df-buttons\">\n",
              "\n",
              "  <div class=\"colab-df-container\">\n",
              "    <button class=\"colab-df-convert\" onclick=\"convertToInteractive('df-bf2f120f-3f4e-455e-8ac7-ec80cb73b886')\"\n",
              "            title=\"Convert this dataframe to an interactive table.\"\n",
              "            style=\"display:none;\">\n",
              "\n",
              "  <svg xmlns=\"http://www.w3.org/2000/svg\" height=\"24px\" viewBox=\"0 -960 960 960\">\n",
              "    <path d=\"M120-120v-720h720v720H120Zm60-500h600v-160H180v160Zm220 220h160v-160H400v160Zm0 220h160v-160H400v160ZM180-400h160v-160H180v160Zm440 0h160v-160H620v160ZM180-180h160v-160H180v160Zm440 0h160v-160H620v160Z\"/>\n",
              "  </svg>\n",
              "    </button>\n",
              "\n",
              "  <style>\n",
              "    .colab-df-container {\n",
              "      display:flex;\n",
              "      gap: 12px;\n",
              "    }\n",
              "\n",
              "    .colab-df-convert {\n",
              "      background-color: #E8F0FE;\n",
              "      border: none;\n",
              "      border-radius: 50%;\n",
              "      cursor: pointer;\n",
              "      display: none;\n",
              "      fill: #1967D2;\n",
              "      height: 32px;\n",
              "      padding: 0 0 0 0;\n",
              "      width: 32px;\n",
              "    }\n",
              "\n",
              "    .colab-df-convert:hover {\n",
              "      background-color: #E2EBFA;\n",
              "      box-shadow: 0px 1px 2px rgba(60, 64, 67, 0.3), 0px 1px 3px 1px rgba(60, 64, 67, 0.15);\n",
              "      fill: #174EA6;\n",
              "    }\n",
              "\n",
              "    .colab-df-buttons div {\n",
              "      margin-bottom: 4px;\n",
              "    }\n",
              "\n",
              "    [theme=dark] .colab-df-convert {\n",
              "      background-color: #3B4455;\n",
              "      fill: #D2E3FC;\n",
              "    }\n",
              "\n",
              "    [theme=dark] .colab-df-convert:hover {\n",
              "      background-color: #434B5C;\n",
              "      box-shadow: 0px 1px 3px 1px rgba(0, 0, 0, 0.15);\n",
              "      filter: drop-shadow(0px 1px 2px rgba(0, 0, 0, 0.3));\n",
              "      fill: #FFFFFF;\n",
              "    }\n",
              "  </style>\n",
              "\n",
              "    <script>\n",
              "      const buttonEl =\n",
              "        document.querySelector('#df-bf2f120f-3f4e-455e-8ac7-ec80cb73b886 button.colab-df-convert');\n",
              "      buttonEl.style.display =\n",
              "        google.colab.kernel.accessAllowed ? 'block' : 'none';\n",
              "\n",
              "      async function convertToInteractive(key) {\n",
              "        const element = document.querySelector('#df-bf2f120f-3f4e-455e-8ac7-ec80cb73b886');\n",
              "        const dataTable =\n",
              "          await google.colab.kernel.invokeFunction('convertToInteractive',\n",
              "                                                    [key], {});\n",
              "        if (!dataTable) return;\n",
              "\n",
              "        const docLinkHtml = 'Like what you see? Visit the ' +\n",
              "          '<a target=\"_blank\" href=https://colab.research.google.com/notebooks/data_table.ipynb>data table notebook</a>'\n",
              "          + ' to learn more about interactive tables.';\n",
              "        element.innerHTML = '';\n",
              "        dataTable['output_type'] = 'display_data';\n",
              "        await google.colab.output.renderOutput(dataTable, element);\n",
              "        const docLink = document.createElement('div');\n",
              "        docLink.innerHTML = docLinkHtml;\n",
              "        element.appendChild(docLink);\n",
              "      }\n",
              "    </script>\n",
              "  </div>\n",
              "\n",
              "\n",
              "<div id=\"df-0ee64430-5a31-4325-ae10-bf9b3474b9f8\">\n",
              "  <button class=\"colab-df-quickchart\" onclick=\"quickchart('df-0ee64430-5a31-4325-ae10-bf9b3474b9f8')\"\n",
              "            title=\"Suggest charts\"\n",
              "            style=\"display:none;\">\n",
              "\n",
              "<svg xmlns=\"http://www.w3.org/2000/svg\" height=\"24px\"viewBox=\"0 0 24 24\"\n",
              "     width=\"24px\">\n",
              "    <g>\n",
              "        <path d=\"M19 3H5c-1.1 0-2 .9-2 2v14c0 1.1.9 2 2 2h14c1.1 0 2-.9 2-2V5c0-1.1-.9-2-2-2zM9 17H7v-7h2v7zm4 0h-2V7h2v10zm4 0h-2v-4h2v4z\"/>\n",
              "    </g>\n",
              "</svg>\n",
              "  </button>\n",
              "\n",
              "<style>\n",
              "  .colab-df-quickchart {\n",
              "      --bg-color: #E8F0FE;\n",
              "      --fill-color: #1967D2;\n",
              "      --hover-bg-color: #E2EBFA;\n",
              "      --hover-fill-color: #174EA6;\n",
              "      --disabled-fill-color: #AAA;\n",
              "      --disabled-bg-color: #DDD;\n",
              "  }\n",
              "\n",
              "  [theme=dark] .colab-df-quickchart {\n",
              "      --bg-color: #3B4455;\n",
              "      --fill-color: #D2E3FC;\n",
              "      --hover-bg-color: #434B5C;\n",
              "      --hover-fill-color: #FFFFFF;\n",
              "      --disabled-bg-color: #3B4455;\n",
              "      --disabled-fill-color: #666;\n",
              "  }\n",
              "\n",
              "  .colab-df-quickchart {\n",
              "    background-color: var(--bg-color);\n",
              "    border: none;\n",
              "    border-radius: 50%;\n",
              "    cursor: pointer;\n",
              "    display: none;\n",
              "    fill: var(--fill-color);\n",
              "    height: 32px;\n",
              "    padding: 0;\n",
              "    width: 32px;\n",
              "  }\n",
              "\n",
              "  .colab-df-quickchart:hover {\n",
              "    background-color: var(--hover-bg-color);\n",
              "    box-shadow: 0 1px 2px rgba(60, 64, 67, 0.3), 0 1px 3px 1px rgba(60, 64, 67, 0.15);\n",
              "    fill: var(--button-hover-fill-color);\n",
              "  }\n",
              "\n",
              "  .colab-df-quickchart-complete:disabled,\n",
              "  .colab-df-quickchart-complete:disabled:hover {\n",
              "    background-color: var(--disabled-bg-color);\n",
              "    fill: var(--disabled-fill-color);\n",
              "    box-shadow: none;\n",
              "  }\n",
              "\n",
              "  .colab-df-spinner {\n",
              "    border: 2px solid var(--fill-color);\n",
              "    border-color: transparent;\n",
              "    border-bottom-color: var(--fill-color);\n",
              "    animation:\n",
              "      spin 1s steps(1) infinite;\n",
              "  }\n",
              "\n",
              "  @keyframes spin {\n",
              "    0% {\n",
              "      border-color: transparent;\n",
              "      border-bottom-color: var(--fill-color);\n",
              "      border-left-color: var(--fill-color);\n",
              "    }\n",
              "    20% {\n",
              "      border-color: transparent;\n",
              "      border-left-color: var(--fill-color);\n",
              "      border-top-color: var(--fill-color);\n",
              "    }\n",
              "    30% {\n",
              "      border-color: transparent;\n",
              "      border-left-color: var(--fill-color);\n",
              "      border-top-color: var(--fill-color);\n",
              "      border-right-color: var(--fill-color);\n",
              "    }\n",
              "    40% {\n",
              "      border-color: transparent;\n",
              "      border-right-color: var(--fill-color);\n",
              "      border-top-color: var(--fill-color);\n",
              "    }\n",
              "    60% {\n",
              "      border-color: transparent;\n",
              "      border-right-color: var(--fill-color);\n",
              "    }\n",
              "    80% {\n",
              "      border-color: transparent;\n",
              "      border-right-color: var(--fill-color);\n",
              "      border-bottom-color: var(--fill-color);\n",
              "    }\n",
              "    90% {\n",
              "      border-color: transparent;\n",
              "      border-bottom-color: var(--fill-color);\n",
              "    }\n",
              "  }\n",
              "</style>\n",
              "\n",
              "  <script>\n",
              "    async function quickchart(key) {\n",
              "      const quickchartButtonEl =\n",
              "        document.querySelector('#' + key + ' button');\n",
              "      quickchartButtonEl.disabled = true;  // To prevent multiple clicks.\n",
              "      quickchartButtonEl.classList.add('colab-df-spinner');\n",
              "      try {\n",
              "        const charts = await google.colab.kernel.invokeFunction(\n",
              "            'suggestCharts', [key], {});\n",
              "      } catch (error) {\n",
              "        console.error('Error during call to suggestCharts:', error);\n",
              "      }\n",
              "      quickchartButtonEl.classList.remove('colab-df-spinner');\n",
              "      quickchartButtonEl.classList.add('colab-df-quickchart-complete');\n",
              "    }\n",
              "    (() => {\n",
              "      let quickchartButtonEl =\n",
              "        document.querySelector('#df-0ee64430-5a31-4325-ae10-bf9b3474b9f8 button');\n",
              "      quickchartButtonEl.style.display =\n",
              "        google.colab.kernel.accessAllowed ? 'block' : 'none';\n",
              "    })();\n",
              "  </script>\n",
              "</div>\n",
              "    </div>\n",
              "  </div>\n"
            ]
          },
          "metadata": {},
          "execution_count": 29
        }
      ]
    },
    {
      "cell_type": "code",
      "source": [
        "df_op = df_op[df_op[\"Deadline\"].str.startswith((\"11\", \"12\", \"01\", \"02\", \"03\")) |\n",
        " (df_op[\"Deadline\"].isin([\"Rolling\", \"ASAP\"]))]"
      ],
      "metadata": {
        "id": "uGuGxM4eZrHK"
      },
      "execution_count": 31,
      "outputs": []
    },
    {
      "cell_type": "code",
      "source": [
        "df_op = df_op[[\"Deadline\", \"Links\", \"Institution\", \"Researcher\", \"Field\", \"Deadline_text\"]]\n",
        "df_op\n"
      ],
      "metadata": {
        "id": "12PJPt3hWYKk"
      },
      "execution_count": 33,
      "outputs": []
    },
    {
      "cell_type": "code",
      "source": [
        "import pandas as pd\n",
        "from datetime import datetime\n",
        "\n",
        "today_date = datetime.today().strftime('%Y-%m-%d')\n",
        "file_name = f\"predoc_webscrapping_{today_date}.xlsx\"\n",
        "df_op.to_excel(file_name, index=False)\n"
      ],
      "metadata": {
        "id": "qNrGrzU8bnML"
      },
      "execution_count": 34,
      "outputs": []
    },
    {
      "cell_type": "code",
      "source": [
        "#df_op.dropna(subset=[\"Deadline\"], inplace=True)\n",
        "#df_op.info()"
      ],
      "metadata": {
        "id": "XeHswzlpZKcE"
      },
      "execution_count": 9,
      "outputs": []
    },
    {
      "cell_type": "code",
      "source": [],
      "metadata": {
        "id": "10qngjeoUK9J"
      },
      "execution_count": 11,
      "outputs": []
    },
    {
      "cell_type": "code",
      "source": [],
      "metadata": {
        "id": "wQXspSCeUK2a"
      },
      "execution_count": 11,
      "outputs": []
    },
    {
      "cell_type": "markdown",
      "source": [
        "# Temp codes"
      ],
      "metadata": {
        "id": "mltntLCLWrVj"
      }
    },
    {
      "cell_type": "markdown",
      "source": [
        "## Web scrap of the following page:\n",
        "\n",
        "https://predoc.org/ra-opportunities"
      ],
      "metadata": {
        "id": "pTeBNVUP76pQ"
      }
    },
    {
      "cell_type": "code",
      "source": [
        "# Due to the characteristics in the page\n",
        "# I used text extraction with index for the information\n",
        "# maybe, using text[index:] can be a better way to extract information I guess"
      ],
      "metadata": {
        "id": "yfW-qJfkIMjK"
      },
      "execution_count": 12,
      "outputs": []
    },
    {
      "cell_type": "code",
      "source": [
        "from bs4 import BeautifulSoup\n",
        "import requests\n",
        "\n",
        "url = \"https://predoc.org/ra-opportunities\"\n",
        "response = requests.get(url, verify=False)\n",
        "soup = BeautifulSoup(response.text, 'html.parser')"
      ],
      "metadata": {
        "colab": {
          "base_uri": "https://localhost:8080/"
        },
        "id": "ihaIbm0M782l",
        "outputId": "fbc005e5-c878-436b-8260-ae48b20f62fd"
      },
      "execution_count": 13,
      "outputs": [
        {
          "output_type": "stream",
          "name": "stderr",
          "text": [
            "/usr/local/lib/python3.10/dist-packages/urllib3/connectionpool.py:1100: InsecureRequestWarning: Unverified HTTPS request is being made to host 'predoc.org'. Adding certificate verification is strongly advised. See: https://urllib3.readthedocs.io/en/latest/advanced-usage.html#tls-warnings\n",
            "  warnings.warn(\n"
          ]
        }
      ]
    },
    {
      "cell_type": "code",
      "source": [
        "div_tags = soup.find_all(\"div\", class_ = \"body-copy\")\n",
        "\n",
        "h_links = []\n",
        "\n",
        "for div_tag in div_tags:\n",
        "  li_tags = div_tag.find_all(\"li\")\n",
        "  for li_tag in li_tags:\n",
        "    a_tag = li_tag.find(\"a\")\n",
        "    h_links.append(a_tag[\"href\"])\n",
        "\n",
        "h_links"
      ],
      "metadata": {
        "colab": {
          "base_uri": "https://localhost:8080/",
          "height": 245
        },
        "id": "FoJFVcpjc1EU",
        "outputId": "032ef38b-a076-4f7b-8f54-80304c9fa0cf"
      },
      "execution_count": 14,
      "outputs": [
        {
          "output_type": "error",
          "ename": "TypeError",
          "evalue": "ignored",
          "traceback": [
            "\u001b[0;31m---------------------------------------------------------------------------\u001b[0m",
            "\u001b[0;31mTypeError\u001b[0m                                 Traceback (most recent call last)",
            "\u001b[0;32m<ipython-input-14-944e35546248>\u001b[0m in \u001b[0;36m<cell line: 5>\u001b[0;34m()\u001b[0m\n\u001b[1;32m      7\u001b[0m   \u001b[0;32mfor\u001b[0m \u001b[0mli_tag\u001b[0m \u001b[0;32min\u001b[0m \u001b[0mli_tags\u001b[0m\u001b[0;34m:\u001b[0m\u001b[0;34m\u001b[0m\u001b[0;34m\u001b[0m\u001b[0m\n\u001b[1;32m      8\u001b[0m     \u001b[0ma_tag\u001b[0m \u001b[0;34m=\u001b[0m \u001b[0mli_tag\u001b[0m\u001b[0;34m.\u001b[0m\u001b[0mfind\u001b[0m\u001b[0;34m(\u001b[0m\u001b[0;34m\"a\"\u001b[0m\u001b[0;34m)\u001b[0m\u001b[0;34m\u001b[0m\u001b[0;34m\u001b[0m\u001b[0m\n\u001b[0;32m----> 9\u001b[0;31m     \u001b[0mh_links\u001b[0m\u001b[0;34m.\u001b[0m\u001b[0mappend\u001b[0m\u001b[0;34m(\u001b[0m\u001b[0ma_tag\u001b[0m\u001b[0;34m[\u001b[0m\u001b[0;34m\"href\"\u001b[0m\u001b[0;34m]\u001b[0m\u001b[0;34m)\u001b[0m\u001b[0;34m\u001b[0m\u001b[0;34m\u001b[0m\u001b[0m\n\u001b[0m\u001b[1;32m     10\u001b[0m \u001b[0;34m\u001b[0m\u001b[0m\n\u001b[1;32m     11\u001b[0m \u001b[0mh_links\u001b[0m\u001b[0;34m\u001b[0m\u001b[0;34m\u001b[0m\u001b[0m\n",
            "\u001b[0;31mTypeError\u001b[0m: 'NoneType' object is not subscriptable"
          ]
        }
      ]
    },
    {
      "cell_type": "code",
      "source": [
        "institutions = []\n",
        "fields = []\n",
        "deadlines = []\n",
        "researchers =[]\n",
        "\n",
        "div_tags = soup.find_all(\"div\", class_ = \"body-copy\")\n",
        "\n",
        "for div_tag in div_tags:\n",
        "  li_tags = div_tag.find_all(\"li\")\n",
        "  for li_tag in li_tags:\n",
        "\n",
        "    temp_text = li_tag.get_text()\n",
        "\n",
        "    temp_inst = temp_text[temp_text.find(\"Institution\"):].split(\":\")[1].split(\"\\n\")[0].strip()\n",
        "    institutions.append(temp_inst)\n",
        "\n",
        "    temp_field = temp_text[temp_text.find(\"Fields\"):].split(\":\")[1].split(\"\\n\")[0].strip().replace(\".\", \"\")\n",
        "    fields.append(temp_field)\n",
        "\n",
        "    temp_deadline = temp_text[temp_text.find(\"Deadline\"):].split(\":\")[1].split(\"\\n\")[0].strip()\n",
        "    deadlines.append(temp_deadline)\n",
        "\n",
        "    temp_researcher = temp_text[temp_text.find(\"Researcher\"):].split(\"\\n\")[0].split(\":\")[-1].strip()\n",
        "    if len(temp_researcher)<3:\n",
        "      temp_researcher = \"\"\n",
        "    researchers.append(temp_researcher)\n",
        "\n"
      ],
      "metadata": {
        "id": "INSa10Vb8fOo"
      },
      "execution_count": null,
      "outputs": []
    },
    {
      "cell_type": "code",
      "source": [
        "print(len(institutions), len(h_links))"
      ],
      "metadata": {
        "id": "Ml1FB7ridyN8"
      },
      "execution_count": null,
      "outputs": []
    },
    {
      "cell_type": "code",
      "source": [
        "# make it as a dataframe\n",
        "\n",
        "import pandas as pd\n",
        "\n",
        "df_ra = pd.DataFrame({\"Deadlines\": deadlines,\n",
        "                      \"Institution\":institutions,\n",
        "                      \"Researcher\": researchers,\n",
        "                      \"Field\":fields,\n",
        "                      \"Links\":h_links})\n",
        "\n",
        "\n",
        "# change the deadline into the consistent form\n",
        "date_pattern = r\"(?i)((?:January|February|March|April|May|June|July|August|September|October|November|December)\\s+\\d{1,2})\"\n",
        "\n",
        "df_ra['Deadline'] = df_ra['Deadlines'].str.extract(date_pattern, expand=False)\n",
        "df_ra.loc[df_ra['Deadline'].isna() & df_ra['Deadlines'].str.contains(r'(?i)rolling'), 'Deadline'] = 'Rolling'\n",
        "df_ra.loc[df_ra['Deadline'].isna() & df_ra['Deadlines'].str.contains(r'(?i)ASAP'), 'Deadline'] = 'ASAP'"
      ],
      "metadata": {
        "id": "aPyXcOHu-ZxT"
      },
      "execution_count": null,
      "outputs": []
    },
    {
      "cell_type": "code",
      "source": [
        "df_ra.sample(3)"
      ],
      "metadata": {
        "id": "rp5-BWiod4yN"
      },
      "execution_count": null,
      "outputs": []
    },
    {
      "cell_type": "markdown",
      "source": [
        "## Sort the data"
      ],
      "metadata": {
        "id": "kFEej51DJUQ-"
      }
    },
    {
      "cell_type": "code",
      "source": [
        "import datetime\n",
        "\n",
        "def convert_deadline(deadline):\n",
        "  if deadline == \"ASAP\":\n",
        "    return pd.to_datetime(\"2099-12-31\")\n",
        "  elif deadline == \"Rolling\":\n",
        "    return pd.to_datetime(\"2098-12-31\")\n",
        "  elif pd.isna(deadline):\n",
        "    return pd.to_datetime(\"2099-12-31\")\n",
        "  else:\n",
        "    return pd.to_datetime(f\"{datetime.date.today().year} {deadline}\", format = \"%Y %B %d\")\n",
        "\n",
        "df_ra[\"deadline_index\"] = df_ra[\"Deadline\"].apply(convert_deadline)\n",
        "\n",
        "today = datetime.datetime.now().date()\n",
        "df_ra = df_ra[df_ra[\"deadline_index\"] >= pd.to_datetime(today)]\n",
        "\n",
        "# sort the data by date\n",
        "df_ra = df_ra.sort_values(by = \"deadline_index\", ascending=True)\n",
        "\n",
        "# change the order\n",
        "df_ra = df_ra[[\"Deadline\", \"Institution\", \"Researcher\", \"Field\", \"Links\", \"Deadlines\"]]"
      ],
      "metadata": {
        "id": "rAwINvU9JYZ9"
      },
      "execution_count": null,
      "outputs": []
    },
    {
      "cell_type": "code",
      "source": [
        "df_ra.head(2)"
      ],
      "metadata": {
        "id": "xvbTNi8TjqE-"
      },
      "execution_count": null,
      "outputs": []
    },
    {
      "cell_type": "code",
      "source": [
        "df_op[\"deadline_index\"] = df_op[\"Deadline\"].apply(convert_deadline)\n",
        "\n",
        "\n",
        "today = datetime.datetime.now().date()\n",
        "df_op = df_op[df_op[\"deadline_index\"] >= pd.to_datetime(today)]\n",
        "\n",
        "# sort the data by date\n",
        "df_op = df_op.sort_values(by = \"deadline_index\", ascending=True)\n",
        "\n",
        "# change the order\n",
        "df_op = df_op[[\"Deadline\", \"Institution\", \"Researcher\", \"Field\", \"Links\", \"Deadlines\"]]"
      ],
      "metadata": {
        "id": "MwAWY-TFLQE9"
      },
      "execution_count": null,
      "outputs": []
    },
    {
      "cell_type": "code",
      "source": [
        "df_op.head(2)"
      ],
      "metadata": {
        "id": "qwtLK-w5jryv"
      },
      "execution_count": null,
      "outputs": []
    },
    {
      "cell_type": "markdown",
      "source": [
        "## Save the output as Exce lfile"
      ],
      "metadata": {
        "id": "OKDOxxZiIL0Z"
      }
    },
    {
      "cell_type": "code",
      "source": [
        "import pandas as pd\n",
        "\n",
        "with pd.ExcelWriter(\"output.xlsx\") as writer:\n",
        "\n",
        "    # use to_excel function and specify the sheet_name and index\n",
        "    # to store the dataframe in specified sheet\n",
        "    df_op.to_excel(writer, sheet_name=\"Opportunities page\", index=False)\n",
        "    df_ra.to_excel(writer, sheet_name=\"RA Opportunities page\", index=False)\n"
      ],
      "metadata": {
        "id": "vikebRwo7Gp0"
      },
      "execution_count": null,
      "outputs": []
    },
    {
      "cell_type": "code",
      "source": [
        "from google.colab import files\n",
        "files.download(\"output.xlsx\")"
      ],
      "metadata": {
        "id": "evK0n9rB4pst"
      },
      "execution_count": null,
      "outputs": []
    },
    {
      "cell_type": "markdown",
      "source": [
        "## Extra Codes\n",
        "Opportunities page (with html header)"
      ],
      "metadata": {
        "id": "7Q8b8oMp74nM"
      }
    },
    {
      "cell_type": "code",
      "source": [
        "# In case of using html headers\n",
        "\n",
        "from bs4 import BeautifulSoup\n",
        "import requests\n",
        "\n",
        "url = \"https://predoc.org/opportunities\"\n",
        "response = requests.get(url, verify=False)\n",
        "soup = BeautifulSoup(response.text, 'html.parser')\n"
      ],
      "metadata": {
        "id": "7S8Ti9iKf2ml"
      },
      "execution_count": null,
      "outputs": []
    },
    {
      "cell_type": "code",
      "source": [
        "# Deadlines\n",
        "# nested under div > p > strong > Deadline\n",
        "\n",
        "copy_divs = soup.find_all('div', class_='copy')\n",
        "\n",
        "deadlines = []\n",
        "\n",
        "for copy_div in copy_divs:\n",
        "    p_tags = copy_div.find_all(\"p\")\n",
        "    for p_tag in p_tags:\n",
        "        strong_tags = p_tag.find_all('strong')\n",
        "        for strong_tag in strong_tags:\n",
        "          # print(strong_tag.get_text(), strong_tag.next_sibling, \"\\n\")\n",
        "          if \"Deadline\" in strong_tag.get_text():\n",
        "            # print(strong_tag.next_sibling)\n",
        "            next_sibling = strong_tag.next_sibling\n",
        "            if next_sibling:\n",
        "              deadlines.append(next_sibling.strip())\n",
        "            else:\n",
        "              deadlines.append(\"\")  # Add an empty string if \"researchers\" is not found\n",
        "\n",
        "fields = []\n",
        "\n",
        "for copy_div in copy_divs:\n",
        "    p_tags = copy_div.find_all(\"p\")\n",
        "    for p_tag in p_tags:\n",
        "        strong_tags = p_tag.find_all('strong')\n",
        "        for strong_tag in strong_tags:\n",
        "          # print(strong_tag.get_text(), strong_tag.next_sibling, \"\\n\")\n",
        "          if \"Field\" in strong_tag.get_text():\n",
        "            # print(strong_tag.next_sibling)\n",
        "            next_sibling = strong_tag.next_sibling\n",
        "            if next_sibling:\n",
        "              fields.append(next_sibling.strip().strip(\":\"))\n",
        "            else:\n",
        "              fields.append(\"\")  # Add an empty string if \"researchers\" is not found\n",
        "\n",
        "\n",
        "print(len(fields))\n",
        "\n",
        "\n",
        "researchers = []\n",
        "for copy_div in copy_divs:\n",
        "    p_tags = copy_div.find_all(\"p\")\n",
        "    for p_tag in p_tags:\n",
        "      #print(p_tag.get_text(), \"\\n\")\n",
        "      if \"Researcher\" in p_tag.get_text() or \"Researcher(s)\" in p_tag.get_text():\n",
        "        strong_tags = p_tag.find_all('strong')\n",
        "        for strong_tag in strong_tags:\n",
        "          if \"Researcher\" in strong_tag.get_text() or \"Researcher(s)\" in strong_tag.get_text() :\n",
        "              next_sibling = strong_tag.next_sibling\n",
        "              researchers.append(next_sibling.strip().strip(\":\").strip(\"()\"))\n",
        "      else:\n",
        "        researchers.append(\"None\")\n",
        "\n",
        "\n",
        "links = []\n",
        "a_tags = soup.select('div.copy a.general-link')\n",
        "for a_tag in a_tags:\n",
        "    # print(a_tag[\"href\"])\n",
        "    links.append(a_tag[\"href\"])\n"
      ],
      "metadata": {
        "id": "LvAQMqZo0Qyl"
      },
      "execution_count": null,
      "outputs": []
    }
  ]
}