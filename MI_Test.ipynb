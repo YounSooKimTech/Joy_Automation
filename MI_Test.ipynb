{
  "nbformat": 4,
  "nbformat_minor": 0,
  "metadata": {
    "colab": {
      "provenance": [],
      "authorship_tag": "ABX9TyNpL9LCg0DAA4BYBeyRcyoc",
      "include_colab_link": true
    },
    "kernelspec": {
      "name": "python3",
      "display_name": "Python 3"
    },
    "language_info": {
      "name": "python"
    }
  },
  "cells": [
    {
      "cell_type": "markdown",
      "metadata": {
        "id": "view-in-github",
        "colab_type": "text"
      },
      "source": [
        "<a href=\"https://colab.research.google.com/github/YounSooKimTech/Joy_Automation/blob/main/MI_Test.ipynb\" target=\"_parent\"><img src=\"https://colab.research.google.com/assets/colab-badge.svg\" alt=\"Open In Colab\"/></a>"
      ]
    },
    {
      "cell_type": "code",
      "source": [
        "def get_input(question):\n",
        "    print(\"Answer your Questions between 1 (Not at all like me) to 5 (definitely me)\")\n",
        "    while True:\n",
        "        try:\n",
        "            value = int(input(question))\n",
        "            if 1 <= value <= 5:\n",
        "                return value\n",
        "            else:\n",
        "                print(\"!!! Please enter a value between 1 and 5 !!!\")\n",
        "        except ValueError:\n",
        "            print(\"!!! Please enter a valid number between 1 and 5 !!!\")\n"
      ],
      "metadata": {
        "id": "lS_FW6kTe9N0"
      },
      "execution_count": 1,
      "outputs": []
    },
    {
      "cell_type": "code",
      "source": [
        "3\n",
        "questions = [\n",
        "    \"I work best in an organised work area: \",\n",
        "    \"I enjoy maths and using numbers: \",\n",
        "    \"I keep a ‘things to do’ list: \",\n",
        "    \"I enjoy playing brainteasers and logic puzzles: \",\n",
        "    \"I like to ask ‘why’ questions: \",\n",
        "    \"I work best when I have a day planner or timetable: \",\n",
        "    \"I quickly grasp cause and effect relationships: \",\n",
        "    \"I always do things one step at a time: \"\n",
        "]\n",
        "\n",
        "responses = [get_input(question) for question in questions]\n",
        "\n",
        "math_score = sum(responses)"
      ],
      "metadata": {
        "colab": {
          "base_uri": "https://localhost:8080/"
        },
        "id": "vcgNk4OmeblU",
        "outputId": "280ffd7d-87f4-4ca6-9cac-c3c47733f416"
      },
      "execution_count": 3,
      "outputs": [
        {
          "name": "stdout",
          "output_type": "stream",
          "text": [
            "Answer your Questions between 1 (Not at all like me) to 5 (definitely me)\n",
            "I work best in an organised work area: 1\n",
            "Answer your Questions between 1 (Not at all like me) to 5 (definitely me)\n",
            "I enjoy maths and using numbers: 1\n",
            "Answer your Questions between 1 (Not at all like me) to 5 (definitely me)\n",
            "I keep a ‘things to do’ list: 1\n",
            "Answer your Questions between 1 (Not at all like me) to 5 (definitely me)\n",
            "I enjoy playing brainteasers and logic puzzles: 1\n",
            "Answer your Questions between 1 (Not at all like me) to 5 (definitely me)\n",
            "I like to ask ‘why’ questions: 1\n",
            "Answer your Questions between 1 (Not at all like me) to 5 (definitely me)\n",
            "I work best when I have a day planner or timetable: 1\n",
            "Answer your Questions between 1 (Not at all like me) to 5 (definitely me)\n",
            "I quickly grasp cause and effect relationships: 1\n",
            "Answer your Questions between 1 (Not at all like me) to 5 (definitely me)\n",
            "I always do things one step at a time: 1\n"
          ]
        }
      ]
    },
    {
      "cell_type": "code",
      "source": [
        "\n",
        "questions = [\n",
        "    \"I can sense the moods and feelings of others: \",\n",
        "    \"I work best when interacting with people: \",\n",
        "    \"I enjoy team sports rather than individual sports: \",\n",
        "    \"I can sort out arguments between friends: \",\n",
        "    \"I prefer group activities rather than ones I do alone: \",\n",
        "    \"I enjoy learning about different cultures: \",\n",
        "    \"I enjoy social events like parties: \",\n",
        "    \"I enjoy sharing my ideas and feelings with others: \"\n",
        "]\n",
        "\n",
        "responses = [get_input(question) for question in questions]\n",
        "\n",
        "interpersonal_score = sum(responses)"
      ],
      "metadata": {
        "colab": {
          "base_uri": "https://localhost:8080/"
        },
        "id": "gxdrujDSe_Ar",
        "outputId": "71db3094-b72a-4b05-9601-874cb515bbe7"
      },
      "execution_count": 5,
      "outputs": [
        {
          "name": "stdout",
          "output_type": "stream",
          "text": [
            "Answer your Questions between 1 (Not at all like me) to 5 (definitely me)\n",
            "I can sense the moods and feelings of others: 3\n",
            "Answer your Questions between 1 (Not at all like me) to 5 (definitely me)\n",
            "I work best when interacting with people: 3\n",
            "Answer your Questions between 1 (Not at all like me) to 5 (definitely me)\n",
            "I enjoy team sports rather than individual sports: 3\n",
            "Answer your Questions between 1 (Not at all like me) to 5 (definitely me)\n",
            "I can sort out arguments between friends: 3\n",
            "Answer your Questions between 1 (Not at all like me) to 5 (definitely me)\n",
            "I prefer group activities rather than ones I do alone: 3\n",
            "Answer your Questions between 1 (Not at all like me) to 5 (definitely me)\n",
            "I enjoy learning about different cultures: 3\n",
            "Answer your Questions between 1 (Not at all like me) to 5 (definitely me)\n",
            "I enjoy social events like parties: 3\n",
            "Answer your Questions between 1 (Not at all like me) to 5 (definitely me)\n",
            "I enjoy sharing my ideas and feelings with others: 3\n"
          ]
        }
      ]
    },
    {
      "cell_type": "code",
      "source": [
        "\n",
        "questions = [\n",
        "    \"Pollution makes me angry: \",\n",
        "    \"I notice similarities and differences in trees, flowers and other things in nature: \",\n",
        "    \"I feel very strongly about protecting the environment: \",\n",
        "    \"I enjoy watching nature programs on television: \",\n",
        "    \"I engage in ‘clean-up days': \",\n",
        "    \"I like planting and caring for a garden: \",\n",
        "    \"I enjoy fishing, bushwalking and bird-watching: \",\n",
        "    \"When I leave school, I hope to work with plants and animals: \"\n",
        "]\n",
        "\n",
        "responses = [get_input(question) for question in questions]\n",
        "\n",
        "natrualistic_score = sum(responses)"
      ],
      "metadata": {
        "colab": {
          "base_uri": "https://localhost:8080/"
        },
        "id": "PsbmhxKBgUil",
        "outputId": "80619184-0ec7-49f5-bb12-51dc87190e50"
      },
      "execution_count": 6,
      "outputs": [
        {
          "name": "stdout",
          "output_type": "stream",
          "text": [
            "Answer your Questions between 1 (Not at all like me) to 5 (definitely me)\n",
            "Pollution makes me angry: 3\n",
            "Answer your Questions between 1 (Not at all like me) to 5 (definitely me)\n",
            "I notice similarities and differences in trees, flowers and other things in nature: 3\n",
            "Answer your Questions between 1 (Not at all like me) to 5 (definitely me)\n",
            "I feel very strongly about protecting the environment: 3\n",
            "Answer your Questions between 1 (Not at all like me) to 5 (definitely me)\n",
            "I enjoy watching nature programs on television: 3\n",
            "Answer your Questions between 1 (Not at all like me) to 5 (definitely me)\n",
            "I engage in ‘clean-up days': 3\n",
            "Answer your Questions between 1 (Not at all like me) to 5 (definitely me)\n",
            "I like planting and caring for a garden: 3\n",
            "Answer your Questions between 1 (Not at all like me) to 5 (definitely me)\n",
            "I enjoy fishing, bushwalking and bird-watching: 3\n",
            "Answer your Questions between 1 (Not at all like me) to 5 (definitely me)\n",
            "When I leave school, I hope to work with plants and animals: 3\n"
          ]
        }
      ]
    },
    {
      "cell_type": "code",
      "source": [
        "\n",
        "questions = [\n",
        "    \"I know myself well: \",\n",
        "    \"I have a few close friends: \",\n",
        "    \"I have strong opinions about controversial issues: \",\n",
        "    \"I work best when the activity is self-paced: \",\n",
        "    \"I am not easily influenced by other people: \",\n",
        "    \"I have a good understanding of my feelings and how I will react to situations: \",\n",
        "    \"I often raise questions concerning values and beliefs: \",\n",
        "    \"I enjoy working on my own: \"\n",
        "]\n",
        "\n",
        "responses = [get_input(question) for question in questions]\n",
        "\n",
        "intrapersonal_score = sum(responses)"
      ],
      "metadata": {
        "colab": {
          "base_uri": "https://localhost:8080/"
        },
        "id": "oayG4ZKKg4LT",
        "outputId": "12eb386c-896b-4512-cf95-1353621b73d4"
      },
      "execution_count": 7,
      "outputs": [
        {
          "name": "stdout",
          "output_type": "stream",
          "text": [
            "Answer your Questions between 1 (Not at all like me) to 5 (definitely me)\n",
            "I know myself well: 2\n",
            "Answer your Questions between 1 (Not at all like me) to 5 (definitely me)\n",
            "I have a few close friends: 2\n",
            "Answer your Questions between 1 (Not at all like me) to 5 (definitely me)\n",
            "I have strong opinions about controversial issues: 2\n",
            "Answer your Questions between 1 (Not at all like me) to 5 (definitely me)\n",
            "I work best when the activity is self-paced: 2\n",
            "Answer your Questions between 1 (Not at all like me) to 5 (definitely me)\n",
            "I am not easily influenced by other people: 2\n",
            "Answer your Questions between 1 (Not at all like me) to 5 (definitely me)\n",
            "I have a good understanding of my feelings and how I will react to situations: 2\n",
            "Answer your Questions between 1 (Not at all like me) to 5 (definitely me)\n",
            "I often raise questions concerning values and beliefs: 2\n",
            "Answer your Questions between 1 (Not at all like me) to 5 (definitely me)\n",
            "I enjoy working on my own: 2\n"
          ]
        }
      ]
    },
    {
      "cell_type": "code",
      "source": [
        "\n",
        "questions = [\n",
        "    \"I like to move, tap or fidget when sitting: \",\n",
        "    \"I enjoy participating in active sports: \",\n",
        "    \"I am curious as to how things feel and I tend to touch objects and examine their texture: \",\n",
        "    \"I am well co-ordinated: \",\n",
        "    \"I like working with my hands: \",\n",
        "    \"I prefer to be physically involved rather than sitting and watching.: \",\n",
        "    \"I understand best by doing (i.e. touching, moving and interacting): \",\n",
        "    \"I like to think through problems while I walk or run: \"\n",
        "]\n",
        "\n",
        "responses = [get_input(question) for question in questions]\n",
        "\n",
        "body_score = sum(responses)"
      ],
      "metadata": {
        "colab": {
          "base_uri": "https://localhost:8080/"
        },
        "id": "WxCSdoFIg4nx",
        "outputId": "9bd0fa95-0b45-48f0-e643-f0b86d93c0c7"
      },
      "execution_count": 8,
      "outputs": [
        {
          "name": "stdout",
          "output_type": "stream",
          "text": [
            "Answer your Questions between 1 (Not at all like me) to 5 (definitely me)\n",
            "I like to move, tap or fidget when sitting: 4\n",
            "Answer your Questions between 1 (Not at all like me) to 5 (definitely me)\n",
            "I enjoy participating in active sports: 4\n",
            "Answer your Questions between 1 (Not at all like me) to 5 (definitely me)\n",
            "I am curious as to how things feel and I tend to touch objects and examine their texture: 4\n",
            "Answer your Questions between 1 (Not at all like me) to 5 (definitely me)\n",
            "I am well co-ordinated: 4\n",
            "Answer your Questions between 1 (Not at all like me) to 5 (definitely me)\n",
            "I like working with my hands: 4\n",
            "Answer your Questions between 1 (Not at all like me) to 5 (definitely me)\n",
            "I prefer to be physically involved rather than sitting and watching.: 4\n",
            "Answer your Questions between 1 (Not at all like me) to 5 (definitely me)\n",
            "I understand best by doing (i.e. touching, moving and interacting): 4\n",
            "Answer your Questions between 1 (Not at all like me) to 5 (definitely me)\n",
            "I like to think through problems while I walk or run: 4\n"
          ]
        }
      ]
    },
    {
      "cell_type": "code",
      "source": [
        "\n",
        "_questions = [\n",
        "    \"I often play music in my mind: \",\n",
        "    \"My mood changes when I listen to music: \",\n",
        "    \"It is easy for me to follow the beat of music: \",\n",
        "    \"I can pick out different instruments when I listen to a piece of music: \",\n",
        "    \"I keep time when music is playing: \",\n",
        "    \"I can hear an off-key note: \",\n",
        "    \"I find it easy to engage in musical activities: \",\n",
        "    \"I can remember pieces of music easily: \"\n",
        "]\n",
        "\n",
        "responses = [get_input(question) for question in questions]\n",
        "\n",
        "musical_score = sum(responses)"
      ],
      "metadata": {
        "colab": {
          "base_uri": "https://localhost:8080/"
        },
        "id": "JoFYC1Gyg5Ex",
        "outputId": "02d5ebb0-1918-4ccb-a8bc-ffdb83fa5ae3"
      },
      "execution_count": 9,
      "outputs": [
        {
          "name": "stdout",
          "output_type": "stream",
          "text": [
            "Answer your Questions between 1 (Not at all like me) to 5 (definitely me)\n",
            "I like to move, tap or fidget when sitting: 5\n",
            "Answer your Questions between 1 (Not at all like me) to 5 (definitely me)\n",
            "I enjoy participating in active sports: 5\n",
            "Answer your Questions between 1 (Not at all like me) to 5 (definitely me)\n",
            "I am curious as to how things feel and I tend to touch objects and examine their texture: 5\n",
            "Answer your Questions between 1 (Not at all like me) to 5 (definitely me)\n",
            "I am well co-ordinated: 5\n",
            "Answer your Questions between 1 (Not at all like me) to 5 (definitely me)\n",
            "I like working with my hands: \n",
            "!!! Please enter a valid number between 1 and 5 !!!\n",
            "I like working with my hands: 5\n",
            "Answer your Questions between 1 (Not at all like me) to 5 (definitely me)\n",
            "I prefer to be physically involved rather than sitting and watching.: 5\n",
            "Answer your Questions between 1 (Not at all like me) to 5 (definitely me)\n",
            "I understand best by doing (i.e. touching, moving and interacting): 5\n",
            "Answer your Questions between 1 (Not at all like me) to 5 (definitely me)\n",
            "I like to think through problems while I walk or run: 5\n"
          ]
        }
      ]
    },
    {
      "cell_type": "code",
      "source": [
        "2\n",
        "questions = [\n",
        "    \"I understand colour combinations and what colours work well together: \",\n",
        "    \"I enjoy solving jigsaw, maze and/or other visual puzzles: \",\n",
        "    \"I read charts and maps easily: \",\n",
        "    \"I have a good sense of direction: \",\n",
        "    \"I like to watch the scenes and activities in movies: \",\n",
        "    \"I am observant. I often see things that others miss: \",\n",
        "    \"I can anticipate the moves and consequences in a game plan (i.e., hockey sense, chess sense): \",\n",
        "    \"I can picture scenes in my head when I remember things: \"\n",
        "]\n",
        "\n",
        "responses = [get_input(question) for question in questions]\n",
        "\n",
        "visual_score = sum(responses)"
      ],
      "metadata": {
        "colab": {
          "base_uri": "https://localhost:8080/"
        },
        "id": "xiD_BN6kiTuV",
        "outputId": "a52d87ee-39ff-4fb0-88a6-9a045dfd65f9"
      },
      "execution_count": 10,
      "outputs": [
        {
          "name": "stdout",
          "output_type": "stream",
          "text": [
            "Answer your Questions between 1 (Not at all like me) to 5 (definitely me)\n",
            "I understand colour combinations and what colours work well together: 1\n",
            "Answer your Questions between 1 (Not at all like me) to 5 (definitely me)\n",
            "I enjoy solving jigsaw, maze and/or other visual puzzles: \n",
            "!!! Please enter a valid number between 1 and 5 !!!\n",
            "I enjoy solving jigsaw, maze and/or other visual puzzles: 3\n",
            "Answer your Questions between 1 (Not at all like me) to 5 (definitely me)\n",
            "I read charts and maps easily: 4\n",
            "Answer your Questions between 1 (Not at all like me) to 5 (definitely me)\n",
            "I have a good sense of direction: 5\n",
            "Answer your Questions between 1 (Not at all like me) to 5 (definitely me)\n",
            "I like to watch the scenes and activities in movies: 4\n",
            "Answer your Questions between 1 (Not at all like me) to 5 (definitely me)\n",
            "I am observant. I often see things that others miss: 3\n",
            "Answer your Questions between 1 (Not at all like me) to 5 (definitely me)\n",
            "I can anticipate the moves and consequences in a game plan (i.e., hockey sense, chess sense): 2\n",
            "Answer your Questions between 1 (Not at all like me) to 5 (definitely me)\n",
            "I can picture scenes in my head when I remember things: 1\n"
          ]
        }
      ]
    },
    {
      "cell_type": "code",
      "source": [
        "\n",
        "questions = [\n",
        "    \"I can use lots of different words to express myself: \",\n",
        "    \"I feel comfortable working with language and words: \",\n",
        "    \"I enjoy crosswords and other word games like Scrabble: \",\n",
        "    \"I tend to remember things exactly as they are said to me: \",\n",
        "    \"I enjoy participating in debates and/or discussions: \",\n",
        "    \"I find it easy to explain things to others: \",\n",
        "    \"I enjoy keeping a written journal and/or writing stories and articles: \",\n",
        "    \"I like to read a lot: \"\n",
        "]\n",
        "\n",
        "responses = [get_input(question) for question in questions]\n",
        "\n",
        "verbal_score = sum(responses)"
      ],
      "metadata": {
        "colab": {
          "base_uri": "https://localhost:8080/"
        },
        "id": "Wuj8gg7CiUL0",
        "outputId": "15e954c3-3e99-4191-c05b-7dac72f2b368"
      },
      "execution_count": 11,
      "outputs": [
        {
          "name": "stdout",
          "output_type": "stream",
          "text": [
            "Answer your Questions between 1 (Not at all like me) to 5 (definitely me)\n",
            "I can use lots of different words to express myself: 1\n",
            "Answer your Questions between 1 (Not at all like me) to 5 (definitely me)\n",
            "I feel comfortable working with language and words: 3\n",
            "Answer your Questions between 1 (Not at all like me) to 5 (definitely me)\n",
            "I enjoy crosswords and other word games like Scrabble: 4\n",
            "Answer your Questions between 1 (Not at all like me) to 5 (definitely me)\n",
            "I tend to remember things exactly as they are said to me: \n",
            "!!! Please enter a valid number between 1 and 5 !!!\n",
            "I tend to remember things exactly as they are said to me: 2\n",
            "Answer your Questions between 1 (Not at all like me) to 5 (definitely me)\n",
            "I enjoy participating in debates and/or discussions: 3\n",
            "Answer your Questions between 1 (Not at all like me) to 5 (definitely me)\n",
            "I find it easy to explain things to others: 4\n",
            "Answer your Questions between 1 (Not at all like me) to 5 (definitely me)\n",
            "I enjoy keeping a written journal and/or writing stories and articles: 2\n",
            "Answer your Questions between 1 (Not at all like me) to 5 (definitely me)\n",
            "I like to read a lot: 1\n"
          ]
        }
      ]
    },
    {
      "cell_type": "code",
      "source": [
        "import matplotlib.pyplot as plt\n",
        "import pandas as pd\n",
        "\n",
        "\n",
        "labels = ['Math', 'Interpersonal', \"Naturalistic\", \"Intrapersonal\", \"Body\", \"Music\", \"Visual\", \"Verbal\"]\n",
        "scores = [math_score, interpersonal_score, natrualistic_score, intrapersonal_score, body_score, musical_score, visual_score, verbal_score]\n",
        "\n",
        "df = pd.DataFrame({'Labels': labels, 'Scores': scores})\n",
        "\n",
        "df = df.sort_values(by=\"Scores\", ascending=False)\n",
        "\n",
        "df"
      ],
      "metadata": {
        "colab": {
          "base_uri": "https://localhost:8080/",
          "height": 300
        },
        "id": "90Qtx4e1ftnw",
        "outputId": "c5f434bb-fdd6-43d9-dc0b-6c83b7b87aa5"
      },
      "execution_count": 13,
      "outputs": [
        {
          "output_type": "execute_result",
          "data": {
            "text/plain": [
              "          Labels  Scores\n",
              "5          Music      40\n",
              "4           Body      32\n",
              "1  Interpersonal      24\n",
              "2   Naturalistic      24\n",
              "6         Visual      23\n",
              "7         Verbal      20\n",
              "3  Intrapersonal      16\n",
              "0           Math       8"
            ],
            "text/html": [
              "\n",
              "  <div id=\"df-3f32d6ce-521a-4ea5-a579-18a91cbe0335\" class=\"colab-df-container\">\n",
              "    <div>\n",
              "<style scoped>\n",
              "    .dataframe tbody tr th:only-of-type {\n",
              "        vertical-align: middle;\n",
              "    }\n",
              "\n",
              "    .dataframe tbody tr th {\n",
              "        vertical-align: top;\n",
              "    }\n",
              "\n",
              "    .dataframe thead th {\n",
              "        text-align: right;\n",
              "    }\n",
              "</style>\n",
              "<table border=\"1\" class=\"dataframe\">\n",
              "  <thead>\n",
              "    <tr style=\"text-align: right;\">\n",
              "      <th></th>\n",
              "      <th>Labels</th>\n",
              "      <th>Scores</th>\n",
              "    </tr>\n",
              "  </thead>\n",
              "  <tbody>\n",
              "    <tr>\n",
              "      <th>5</th>\n",
              "      <td>Music</td>\n",
              "      <td>40</td>\n",
              "    </tr>\n",
              "    <tr>\n",
              "      <th>4</th>\n",
              "      <td>Body</td>\n",
              "      <td>32</td>\n",
              "    </tr>\n",
              "    <tr>\n",
              "      <th>1</th>\n",
              "      <td>Interpersonal</td>\n",
              "      <td>24</td>\n",
              "    </tr>\n",
              "    <tr>\n",
              "      <th>2</th>\n",
              "      <td>Naturalistic</td>\n",
              "      <td>24</td>\n",
              "    </tr>\n",
              "    <tr>\n",
              "      <th>6</th>\n",
              "      <td>Visual</td>\n",
              "      <td>23</td>\n",
              "    </tr>\n",
              "    <tr>\n",
              "      <th>7</th>\n",
              "      <td>Verbal</td>\n",
              "      <td>20</td>\n",
              "    </tr>\n",
              "    <tr>\n",
              "      <th>3</th>\n",
              "      <td>Intrapersonal</td>\n",
              "      <td>16</td>\n",
              "    </tr>\n",
              "    <tr>\n",
              "      <th>0</th>\n",
              "      <td>Math</td>\n",
              "      <td>8</td>\n",
              "    </tr>\n",
              "  </tbody>\n",
              "</table>\n",
              "</div>\n",
              "    <div class=\"colab-df-buttons\">\n",
              "\n",
              "  <div class=\"colab-df-container\">\n",
              "    <button class=\"colab-df-convert\" onclick=\"convertToInteractive('df-3f32d6ce-521a-4ea5-a579-18a91cbe0335')\"\n",
              "            title=\"Convert this dataframe to an interactive table.\"\n",
              "            style=\"display:none;\">\n",
              "\n",
              "  <svg xmlns=\"http://www.w3.org/2000/svg\" height=\"24px\" viewBox=\"0 -960 960 960\">\n",
              "    <path d=\"M120-120v-720h720v720H120Zm60-500h600v-160H180v160Zm220 220h160v-160H400v160Zm0 220h160v-160H400v160ZM180-400h160v-160H180v160Zm440 0h160v-160H620v160ZM180-180h160v-160H180v160Zm440 0h160v-160H620v160Z\"/>\n",
              "  </svg>\n",
              "    </button>\n",
              "\n",
              "  <style>\n",
              "    .colab-df-container {\n",
              "      display:flex;\n",
              "      gap: 12px;\n",
              "    }\n",
              "\n",
              "    .colab-df-convert {\n",
              "      background-color: #E8F0FE;\n",
              "      border: none;\n",
              "      border-radius: 50%;\n",
              "      cursor: pointer;\n",
              "      display: none;\n",
              "      fill: #1967D2;\n",
              "      height: 32px;\n",
              "      padding: 0 0 0 0;\n",
              "      width: 32px;\n",
              "    }\n",
              "\n",
              "    .colab-df-convert:hover {\n",
              "      background-color: #E2EBFA;\n",
              "      box-shadow: 0px 1px 2px rgba(60, 64, 67, 0.3), 0px 1px 3px 1px rgba(60, 64, 67, 0.15);\n",
              "      fill: #174EA6;\n",
              "    }\n",
              "\n",
              "    .colab-df-buttons div {\n",
              "      margin-bottom: 4px;\n",
              "    }\n",
              "\n",
              "    [theme=dark] .colab-df-convert {\n",
              "      background-color: #3B4455;\n",
              "      fill: #D2E3FC;\n",
              "    }\n",
              "\n",
              "    [theme=dark] .colab-df-convert:hover {\n",
              "      background-color: #434B5C;\n",
              "      box-shadow: 0px 1px 3px 1px rgba(0, 0, 0, 0.15);\n",
              "      filter: drop-shadow(0px 1px 2px rgba(0, 0, 0, 0.3));\n",
              "      fill: #FFFFFF;\n",
              "    }\n",
              "  </style>\n",
              "\n",
              "    <script>\n",
              "      const buttonEl =\n",
              "        document.querySelector('#df-3f32d6ce-521a-4ea5-a579-18a91cbe0335 button.colab-df-convert');\n",
              "      buttonEl.style.display =\n",
              "        google.colab.kernel.accessAllowed ? 'block' : 'none';\n",
              "\n",
              "      async function convertToInteractive(key) {\n",
              "        const element = document.querySelector('#df-3f32d6ce-521a-4ea5-a579-18a91cbe0335');\n",
              "        const dataTable =\n",
              "          await google.colab.kernel.invokeFunction('convertToInteractive',\n",
              "                                                    [key], {});\n",
              "        if (!dataTable) return;\n",
              "\n",
              "        const docLinkHtml = 'Like what you see? Visit the ' +\n",
              "          '<a target=\"_blank\" href=https://colab.research.google.com/notebooks/data_table.ipynb>data table notebook</a>'\n",
              "          + ' to learn more about interactive tables.';\n",
              "        element.innerHTML = '';\n",
              "        dataTable['output_type'] = 'display_data';\n",
              "        await google.colab.output.renderOutput(dataTable, element);\n",
              "        const docLink = document.createElement('div');\n",
              "        docLink.innerHTML = docLinkHtml;\n",
              "        element.appendChild(docLink);\n",
              "      }\n",
              "    </script>\n",
              "  </div>\n",
              "\n",
              "\n",
              "<div id=\"df-ddc7028d-7910-4d19-9f45-4157c33c4b58\">\n",
              "  <button class=\"colab-df-quickchart\" onclick=\"quickchart('df-ddc7028d-7910-4d19-9f45-4157c33c4b58')\"\n",
              "            title=\"Suggest charts.\"\n",
              "            style=\"display:none;\">\n",
              "\n",
              "<svg xmlns=\"http://www.w3.org/2000/svg\" height=\"24px\"viewBox=\"0 0 24 24\"\n",
              "     width=\"24px\">\n",
              "    <g>\n",
              "        <path d=\"M19 3H5c-1.1 0-2 .9-2 2v14c0 1.1.9 2 2 2h14c1.1 0 2-.9 2-2V5c0-1.1-.9-2-2-2zM9 17H7v-7h2v7zm4 0h-2V7h2v10zm4 0h-2v-4h2v4z\"/>\n",
              "    </g>\n",
              "</svg>\n",
              "  </button>\n",
              "\n",
              "<style>\n",
              "  .colab-df-quickchart {\n",
              "      --bg-color: #E8F0FE;\n",
              "      --fill-color: #1967D2;\n",
              "      --hover-bg-color: #E2EBFA;\n",
              "      --hover-fill-color: #174EA6;\n",
              "      --disabled-fill-color: #AAA;\n",
              "      --disabled-bg-color: #DDD;\n",
              "  }\n",
              "\n",
              "  [theme=dark] .colab-df-quickchart {\n",
              "      --bg-color: #3B4455;\n",
              "      --fill-color: #D2E3FC;\n",
              "      --hover-bg-color: #434B5C;\n",
              "      --hover-fill-color: #FFFFFF;\n",
              "      --disabled-bg-color: #3B4455;\n",
              "      --disabled-fill-color: #666;\n",
              "  }\n",
              "\n",
              "  .colab-df-quickchart {\n",
              "    background-color: var(--bg-color);\n",
              "    border: none;\n",
              "    border-radius: 50%;\n",
              "    cursor: pointer;\n",
              "    display: none;\n",
              "    fill: var(--fill-color);\n",
              "    height: 32px;\n",
              "    padding: 0;\n",
              "    width: 32px;\n",
              "  }\n",
              "\n",
              "  .colab-df-quickchart:hover {\n",
              "    background-color: var(--hover-bg-color);\n",
              "    box-shadow: 0 1px 2px rgba(60, 64, 67, 0.3), 0 1px 3px 1px rgba(60, 64, 67, 0.15);\n",
              "    fill: var(--button-hover-fill-color);\n",
              "  }\n",
              "\n",
              "  .colab-df-quickchart-complete:disabled,\n",
              "  .colab-df-quickchart-complete:disabled:hover {\n",
              "    background-color: var(--disabled-bg-color);\n",
              "    fill: var(--disabled-fill-color);\n",
              "    box-shadow: none;\n",
              "  }\n",
              "\n",
              "  .colab-df-spinner {\n",
              "    border: 2px solid var(--fill-color);\n",
              "    border-color: transparent;\n",
              "    border-bottom-color: var(--fill-color);\n",
              "    animation:\n",
              "      spin 1s steps(1) infinite;\n",
              "  }\n",
              "\n",
              "  @keyframes spin {\n",
              "    0% {\n",
              "      border-color: transparent;\n",
              "      border-bottom-color: var(--fill-color);\n",
              "      border-left-color: var(--fill-color);\n",
              "    }\n",
              "    20% {\n",
              "      border-color: transparent;\n",
              "      border-left-color: var(--fill-color);\n",
              "      border-top-color: var(--fill-color);\n",
              "    }\n",
              "    30% {\n",
              "      border-color: transparent;\n",
              "      border-left-color: var(--fill-color);\n",
              "      border-top-color: var(--fill-color);\n",
              "      border-right-color: var(--fill-color);\n",
              "    }\n",
              "    40% {\n",
              "      border-color: transparent;\n",
              "      border-right-color: var(--fill-color);\n",
              "      border-top-color: var(--fill-color);\n",
              "    }\n",
              "    60% {\n",
              "      border-color: transparent;\n",
              "      border-right-color: var(--fill-color);\n",
              "    }\n",
              "    80% {\n",
              "      border-color: transparent;\n",
              "      border-right-color: var(--fill-color);\n",
              "      border-bottom-color: var(--fill-color);\n",
              "    }\n",
              "    90% {\n",
              "      border-color: transparent;\n",
              "      border-bottom-color: var(--fill-color);\n",
              "    }\n",
              "  }\n",
              "</style>\n",
              "\n",
              "  <script>\n",
              "    async function quickchart(key) {\n",
              "      const quickchartButtonEl =\n",
              "        document.querySelector('#' + key + ' button');\n",
              "      quickchartButtonEl.disabled = true;  // To prevent multiple clicks.\n",
              "      quickchartButtonEl.classList.add('colab-df-spinner');\n",
              "      try {\n",
              "        const charts = await google.colab.kernel.invokeFunction(\n",
              "            'suggestCharts', [key], {});\n",
              "      } catch (error) {\n",
              "        console.error('Error during call to suggestCharts:', error);\n",
              "      }\n",
              "      quickchartButtonEl.classList.remove('colab-df-spinner');\n",
              "      quickchartButtonEl.classList.add('colab-df-quickchart-complete');\n",
              "    }\n",
              "    (() => {\n",
              "      let quickchartButtonEl =\n",
              "        document.querySelector('#df-ddc7028d-7910-4d19-9f45-4157c33c4b58 button');\n",
              "      quickchartButtonEl.style.display =\n",
              "        google.colab.kernel.accessAllowed ? 'block' : 'none';\n",
              "    })();\n",
              "  </script>\n",
              "</div>\n",
              "    </div>\n",
              "  </div>\n"
            ]
          },
          "metadata": {},
          "execution_count": 13
        }
      ]
    },
    {
      "cell_type": "code",
      "source": [
        "import seaborn as sns\n",
        "\n",
        "sns.barplot(y=\"Labels\", x=\"Scores\", data=df, palette=\"Set2\")\n",
        "\n",
        "plt.xlabel('Scores')\n",
        "plt.ylabel('Score Value')\n",
        "plt.title('THE MULTIPLE INTELLIGENCE QUIZ')\n",
        "\n",
        "# Show the plot\n",
        "plt.show()"
      ],
      "metadata": {
        "colab": {
          "base_uri": "https://localhost:8080/",
          "height": 472
        },
        "id": "EznTZuipfeJz",
        "outputId": "788093c1-f515-4730-a204-49556730ce59"
      },
      "execution_count": 15,
      "outputs": [
        {
          "output_type": "display_data",
          "data": {
            "text/plain": [
              "<Figure size 640x480 with 1 Axes>"
            ],
            "image/png": "[encoded data removed]"
          },
          "metadata": {}
        }
      ]
    },
    {
      "cell_type": "code",
      "source": [],
      "metadata": {
        "id": "WA6Ft_TbfeCs"
      },
      "execution_count": null,
      "outputs": []
    }
  ]
}