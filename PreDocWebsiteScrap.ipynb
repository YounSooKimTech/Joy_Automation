{
  "nbformat": 4,
  "nbformat_minor": 0,
  "metadata": {
    "colab": {
      "provenance": [],
      "authorship_tag": "ABX9TyO+VioM8qeS66BmA+9pWw/J",
      "include_colab_link": true
    },
    "kernelspec": {
      "name": "python3",
      "display_name": "Python 3"
    },
    "language_info": {
      "name": "python"
    }
  },
  "cells": [
    {
      "cell_type": "markdown",
      "metadata": {
        "id": "view-in-github",
        "colab_type": "text"
      },
      "source": [
        "<a href=\"https://colab.research.google.com/github/YounSooKimTech/Joy_Automation/blob/main/PreDocWebsiteScrap.ipynb\" target=\"_parent\"><img src=\"https://colab.research.google.com/assets/colab-badge.svg\" alt=\"Open In Colab\"/></a>"
      ]
    },
    {
      "cell_type": "code",
      "execution_count": null,
      "metadata": {
        "id": "CcPHQDCz0Bwk"
      },
      "outputs": [],
      "source": [
        "# ! pip install beautifulsoup4 requests"
      ]
    },
    {
      "cell_type": "markdown",
      "source": [
        "# Web scrap of the following page:\n",
        "\n",
        "https://predoc.org/ra-opportunities"
      ],
      "metadata": {
        "id": "pTeBNVUP76pQ"
      }
    },
    {
      "cell_type": "code",
      "source": [
        "# Due to the characteristics in the page\n",
        "# I used text extraction with index for the information\n",
        "# maybe, using text[index:] can be a better way to extract information I guess"
      ],
      "metadata": {
        "id": "yfW-qJfkIMjK"
      },
      "execution_count": 412,
      "outputs": []
    },
    {
      "cell_type": "code",
      "source": [
        "from bs4 import BeautifulSoup\n",
        "import requests\n",
        "\n",
        "url = \"https://predoc.org/ra-opportunities\"\n",
        "response = requests.get(url, verify=False)\n",
        "soup = BeautifulSoup(response.text, 'html.parser')"
      ],
      "metadata": {
        "colab": {
          "base_uri": "https://localhost:8080/"
        },
        "id": "ihaIbm0M782l",
        "outputId": "125e7b41-9483-492b-c9b5-b779d9a6db75"
      },
      "execution_count": 413,
      "outputs": [
        {
          "output_type": "stream",
          "name": "stderr",
          "text": [
            "/usr/local/lib/python3.10/dist-packages/urllib3/connectionpool.py:1095: InsecureRequestWarning: Unverified HTTPS request is being made to host 'predoc.org'. Adding certificate verification is strongly advised. See: https://urllib3.readthedocs.io/en/latest/advanced-usage.html#tls-warnings\n",
            "  warnings.warn(\n"
          ]
        }
      ]
    },
    {
      "cell_type": "code",
      "source": [
        "div_tags = soup.find_all(\"div\", class_ = \"body-copy\")\n",
        "\n",
        "h_links = []\n",
        "\n",
        "for div_tag in div_tags:\n",
        "  li_tags = div_tag.find_all(\"li\")\n",
        "  for li_tag in li_tags:\n",
        "    a_tag = li_tag.find(\"a\")\n",
        "    h_links.append(a_tag[\"href\"])\n",
        "\n",
        "h_links"
      ],
      "metadata": {
        "colab": {
          "base_uri": "https://localhost:8080/"
        },
        "id": "FoJFVcpjc1EU",
        "outputId": "c893c5aa-5fc3-4c99-9821-b2e8278412de"
      },
      "execution_count": 414,
      "outputs": [
        {
          "output_type": "execute_result",
          "data": {
            "text/plain": [
              "['https://bit.ly/3LFuCod',\n",
              " 'https://bit.ly/3PXATOv',\n",
              " 'https://bit.ly/46fL6eX',\n",
              " 'https://bit.ly/3PY7DHB',\n",
              " 'https://bit.ly/3LmEvqJ',\n",
              " 'https://bit.ly/3Csqpzn',\n",
              " 'https://bit.ly/3OifEXv',\n",
              " 'https://bit.ly/3W49Xya',\n",
              " 'https://bit.ly/447jdE2',\n",
              " 'https://twitter.com/GennaioliC/status/1673968653962735619?s=20',\n",
              " 'https://bit.ly/3CxaaB0']"
            ]
          },
          "metadata": {},
          "execution_count": 414
        }
      ]
    },
    {
      "cell_type": "code",
      "source": [
        "institutions = []\n",
        "fields = []\n",
        "deadlines = []\n",
        "researchers =[]\n",
        "\n",
        "div_tags = soup.find_all(\"div\", class_ = \"body-copy\")\n",
        "\n",
        "for div_tag in div_tags:\n",
        "  li_tags = div_tag.find_all(\"li\")\n",
        "  for li_tag in li_tags:\n",
        "\n",
        "    temp_text = li_tag.get_text()\n",
        "\n",
        "    temp_inst = temp_text[temp_text.find(\"Institution\"):].split(\":\")[1].split(\"\\n\")[0].strip()\n",
        "    institutions.append(temp_inst)\n",
        "\n",
        "    temp_field = temp_text[temp_text.find(\"Fields\"):].split(\":\")[1].split(\"\\n\")[0].strip().replace(\".\", \"\")\n",
        "    fields.append(temp_field)\n",
        "\n",
        "    temp_deadline = temp_text[temp_text.find(\"Deadline\"):].split(\":\")[1].split(\"\\n\")[0].strip()\n",
        "    deadlines.append(temp_deadline)\n",
        "\n",
        "    temp_researcher = temp_text[temp_text.find(\"Researcher\"):].split(\"\\n\")[0].split(\":\")[-1].strip()\n",
        "    if len(temp_researcher)<3:\n",
        "      temp_researcher = \"\"\n",
        "    researchers.append(temp_researcher)\n",
        "\n"
      ],
      "metadata": {
        "id": "INSa10Vb8fOo"
      },
      "execution_count": 415,
      "outputs": []
    },
    {
      "cell_type": "code",
      "source": [
        "print(len(institutions), len(h_links))"
      ],
      "metadata": {
        "colab": {
          "base_uri": "https://localhost:8080/"
        },
        "id": "Ml1FB7ridyN8",
        "outputId": "ddfa3d6c-6d92-4bc7-eb05-e7894e834015"
      },
      "execution_count": 417,
      "outputs": [
        {
          "output_type": "stream",
          "name": "stdout",
          "text": [
            "11 11\n"
          ]
        }
      ]
    },
    {
      "cell_type": "code",
      "source": [
        "# make it as a dataframe\n",
        "\n",
        "import pandas as pd\n",
        "\n",
        "df_ra = pd.DataFrame({\"Deadlines\": deadlines,\n",
        "                      \"Institution\":institutions,\n",
        "                      \"Researcher\": researchers,\n",
        "                      \"Field\":fields,\n",
        "                      \"Links\":h_links})\n",
        "\n",
        "\n",
        "# change the deadline into the consistent form\n",
        "date_pattern = r\"(?i)((?:January|February|March|April|May|June|July|August|September|October|November|December)\\s+\\d{1,2})\"\n",
        "\n",
        "df_ra['Deadline'] = df_ra['Deadlines'].str.extract(date_pattern, expand=False)\n",
        "df_ra.loc[df_ra['Deadline'].isna() & df_ra['Deadlines'].str.contains(r'(?i)rolling'), 'Deadline'] = 'Rolling'\n",
        "df_ra.loc[df_ra['Deadline'].isna() & df_ra['Deadlines'].str.contains(r'(?i)ASAP'), 'Deadline'] = 'ASAP'"
      ],
      "metadata": {
        "id": "aPyXcOHu-ZxT"
      },
      "execution_count": 418,
      "outputs": []
    },
    {
      "cell_type": "code",
      "source": [
        "df_ra.sample(3)"
      ],
      "metadata": {
        "colab": {
          "base_uri": "https://localhost:8080/",
          "height": 143
        },
        "id": "rp5-BWiod4yN",
        "outputId": "3a19b505-6de3-4f9c-f729-d378547a48ed"
      },
      "execution_count": 419,
      "outputs": [
        {
          "output_type": "execute_result",
          "data": {
            "text/plain": [
              "          Deadlines                                        Institution  \\\n",
              "4  October 16, 2023    The U.S. Government Accountability Office (GAO)   \n",
              "6           Rolling  Central Iowa VA Health Care System Finance Dep...   \n",
              "0  October 13, 2023  DOJ Pathways Internship Program Bureau of Prisons   \n",
              "\n",
              "                           Researcher  \\\n",
              "4                                       \n",
              "6  Department of Veteran Affairs Team   \n",
              "0                                       \n",
              "\n",
              "                                          Field                   Links  \\\n",
              "4                 Financial audits and analyses  https://bit.ly/3LmEvqJ   \n",
              "6  Financial Management, Accounting or Auditing  https://bit.ly/3OifEXv   \n",
              "0                                    Psychology  https://bit.ly/3LFuCod   \n",
              "\n",
              "     Deadline  \n",
              "4  October 16  \n",
              "6     Rolling  \n",
              "0  October 13  "
            ],
            "text/html": [
              "\n",
              "  <div id=\"df-f178b1b8-d0bc-434c-8d89-03f657aef041\" class=\"colab-df-container\">\n",
              "    <div>\n",
              "<style scoped>\n",
              "    .dataframe tbody tr th:only-of-type {\n",
              "        vertical-align: middle;\n",
              "    }\n",
              "\n",
              "    .dataframe tbody tr th {\n",
              "        vertical-align: top;\n",
              "    }\n",
              "\n",
              "    .dataframe thead th {\n",
              "        text-align: right;\n",
              "    }\n",
              "</style>\n",
              "<table border=\"1\" class=\"dataframe\">\n",
              "  <thead>\n",
              "    <tr style=\"text-align: right;\">\n",
              "      <th></th>\n",
              "      <th>Deadlines</th>\n",
              "      <th>Institution</th>\n",
              "      <th>Researcher</th>\n",
              "      <th>Field</th>\n",
              "      <th>Links</th>\n",
              "      <th>Deadline</th>\n",
              "    </tr>\n",
              "  </thead>\n",
              "  <tbody>\n",
              "    <tr>\n",
              "      <th>4</th>\n",
              "      <td>October 16, 2023</td>\n",
              "      <td>The U.S. Government Accountability Office (GAO)</td>\n",
              "      <td></td>\n",
              "      <td>Financial audits and analyses</td>\n",
              "      <td>https://bit.ly/3LmEvqJ</td>\n",
              "      <td>October 16</td>\n",
              "    </tr>\n",
              "    <tr>\n",
              "      <th>6</th>\n",
              "      <td>Rolling</td>\n",
              "      <td>Central Iowa VA Health Care System Finance Dep...</td>\n",
              "      <td>Department of Veteran Affairs Team</td>\n",
              "      <td>Financial Management, Accounting or Auditing</td>\n",
              "      <td>https://bit.ly/3OifEXv</td>\n",
              "      <td>Rolling</td>\n",
              "    </tr>\n",
              "    <tr>\n",
              "      <th>0</th>\n",
              "      <td>October 13, 2023</td>\n",
              "      <td>DOJ Pathways Internship Program Bureau of Prisons</td>\n",
              "      <td></td>\n",
              "      <td>Psychology</td>\n",
              "      <td>https://bit.ly/3LFuCod</td>\n",
              "      <td>October 13</td>\n",
              "    </tr>\n",
              "  </tbody>\n",
              "</table>\n",
              "</div>\n",
              "    <div class=\"colab-df-buttons\">\n",
              "\n",
              "  <div class=\"colab-df-container\">\n",
              "    <button class=\"colab-df-convert\" onclick=\"convertToInteractive('df-f178b1b8-d0bc-434c-8d89-03f657aef041')\"\n",
              "            title=\"Convert this dataframe to an interactive table.\"\n",
              "            style=\"display:none;\">\n",
              "\n",
              "  <svg xmlns=\"http://www.w3.org/2000/svg\" height=\"24px\" viewBox=\"0 -960 960 960\">\n",
              "    <path d=\"M120-120v-720h720v720H120Zm60-500h600v-160H180v160Zm220 220h160v-160H400v160Zm0 220h160v-160H400v160ZM180-400h160v-160H180v160Zm440 0h160v-160H620v160ZM180-180h160v-160H180v160Zm440 0h160v-160H620v160Z\"/>\n",
              "  </svg>\n",
              "    </button>\n",
              "\n",
              "  <style>\n",
              "    .colab-df-container {\n",
              "      display:flex;\n",
              "      gap: 12px;\n",
              "    }\n",
              "\n",
              "    .colab-df-convert {\n",
              "      background-color: #E8F0FE;\n",
              "      border: none;\n",
              "      border-radius: 50%;\n",
              "      cursor: pointer;\n",
              "      display: none;\n",
              "      fill: #1967D2;\n",
              "      height: 32px;\n",
              "      padding: 0 0 0 0;\n",
              "      width: 32px;\n",
              "    }\n",
              "\n",
              "    .colab-df-convert:hover {\n",
              "      background-color: #E2EBFA;\n",
              "      box-shadow: 0px 1px 2px rgba(60, 64, 67, 0.3), 0px 1px 3px 1px rgba(60, 64, 67, 0.15);\n",
              "      fill: #174EA6;\n",
              "    }\n",
              "\n",
              "    .colab-df-buttons div {\n",
              "      margin-bottom: 4px;\n",
              "    }\n",
              "\n",
              "    [theme=dark] .colab-df-convert {\n",
              "      background-color: #3B4455;\n",
              "      fill: #D2E3FC;\n",
              "    }\n",
              "\n",
              "    [theme=dark] .colab-df-convert:hover {\n",
              "      background-color: #434B5C;\n",
              "      box-shadow: 0px 1px 3px 1px rgba(0, 0, 0, 0.15);\n",
              "      filter: drop-shadow(0px 1px 2px rgba(0, 0, 0, 0.3));\n",
              "      fill: #FFFFFF;\n",
              "    }\n",
              "  </style>\n",
              "\n",
              "    <script>\n",
              "      const buttonEl =\n",
              "        document.querySelector('#df-f178b1b8-d0bc-434c-8d89-03f657aef041 button.colab-df-convert');\n",
              "      buttonEl.style.display =\n",
              "        google.colab.kernel.accessAllowed ? 'block' : 'none';\n",
              "\n",
              "      async function convertToInteractive(key) {\n",
              "        const element = document.querySelector('#df-f178b1b8-d0bc-434c-8d89-03f657aef041');\n",
              "        const dataTable =\n",
              "          await google.colab.kernel.invokeFunction('convertToInteractive',\n",
              "                                                    [key], {});\n",
              "        if (!dataTable) return;\n",
              "\n",
              "        const docLinkHtml = 'Like what you see? Visit the ' +\n",
              "          '<a target=\"_blank\" href=https://colab.research.google.com/notebooks/data_table.ipynb>data table notebook</a>'\n",
              "          + ' to learn more about interactive tables.';\n",
              "        element.innerHTML = '';\n",
              "        dataTable['output_type'] = 'display_data';\n",
              "        await google.colab.output.renderOutput(dataTable, element);\n",
              "        const docLink = document.createElement('div');\n",
              "        docLink.innerHTML = docLinkHtml;\n",
              "        element.appendChild(docLink);\n",
              "      }\n",
              "    </script>\n",
              "  </div>\n",
              "\n",
              "\n",
              "<div id=\"df-ba15ca16-d34b-4b4c-b000-16156697a8d8\">\n",
              "  <button class=\"colab-df-quickchart\" onclick=\"quickchart('df-ba15ca16-d34b-4b4c-b000-16156697a8d8')\"\n",
              "            title=\"Suggest charts.\"\n",
              "            style=\"display:none;\">\n",
              "\n",
              "<svg xmlns=\"http://www.w3.org/2000/svg\" height=\"24px\"viewBox=\"0 0 24 24\"\n",
              "     width=\"24px\">\n",
              "    <g>\n",
              "        <path d=\"M19 3H5c-1.1 0-2 .9-2 2v14c0 1.1.9 2 2 2h14c1.1 0 2-.9 2-2V5c0-1.1-.9-2-2-2zM9 17H7v-7h2v7zm4 0h-2V7h2v10zm4 0h-2v-4h2v4z\"/>\n",
              "    </g>\n",
              "</svg>\n",
              "  </button>\n",
              "\n",
              "<style>\n",
              "  .colab-df-quickchart {\n",
              "      --bg-color: #E8F0FE;\n",
              "      --fill-color: #1967D2;\n",
              "      --hover-bg-color: #E2EBFA;\n",
              "      --hover-fill-color: #174EA6;\n",
              "      --disabled-fill-color: #AAA;\n",
              "      --disabled-bg-color: #DDD;\n",
              "  }\n",
              "\n",
              "  [theme=dark] .colab-df-quickchart {\n",
              "      --bg-color: #3B4455;\n",
              "      --fill-color: #D2E3FC;\n",
              "      --hover-bg-color: #434B5C;\n",
              "      --hover-fill-color: #FFFFFF;\n",
              "      --disabled-bg-color: #3B4455;\n",
              "      --disabled-fill-color: #666;\n",
              "  }\n",
              "\n",
              "  .colab-df-quickchart {\n",
              "    background-color: var(--bg-color);\n",
              "    border: none;\n",
              "    border-radius: 50%;\n",
              "    cursor: pointer;\n",
              "    display: none;\n",
              "    fill: var(--fill-color);\n",
              "    height: 32px;\n",
              "    padding: 0;\n",
              "    width: 32px;\n",
              "  }\n",
              "\n",
              "  .colab-df-quickchart:hover {\n",
              "    background-color: var(--hover-bg-color);\n",
              "    box-shadow: 0 1px 2px rgba(60, 64, 67, 0.3), 0 1px 3px 1px rgba(60, 64, 67, 0.15);\n",
              "    fill: var(--button-hover-fill-color);\n",
              "  }\n",
              "\n",
              "  .colab-df-quickchart-complete:disabled,\n",
              "  .colab-df-quickchart-complete:disabled:hover {\n",
              "    background-color: var(--disabled-bg-color);\n",
              "    fill: var(--disabled-fill-color);\n",
              "    box-shadow: none;\n",
              "  }\n",
              "\n",
              "  .colab-df-spinner {\n",
              "    border: 2px solid var(--fill-color);\n",
              "    border-color: transparent;\n",
              "    border-bottom-color: var(--fill-color);\n",
              "    animation:\n",
              "      spin 1s steps(1) infinite;\n",
              "  }\n",
              "\n",
              "  @keyframes spin {\n",
              "    0% {\n",
              "      border-color: transparent;\n",
              "      border-bottom-color: var(--fill-color);\n",
              "      border-left-color: var(--fill-color);\n",
              "    }\n",
              "    20% {\n",
              "      border-color: transparent;\n",
              "      border-left-color: var(--fill-color);\n",
              "      border-top-color: var(--fill-color);\n",
              "    }\n",
              "    30% {\n",
              "      border-color: transparent;\n",
              "      border-left-color: var(--fill-color);\n",
              "      border-top-color: var(--fill-color);\n",
              "      border-right-color: var(--fill-color);\n",
              "    }\n",
              "    40% {\n",
              "      border-color: transparent;\n",
              "      border-right-color: var(--fill-color);\n",
              "      border-top-color: var(--fill-color);\n",
              "    }\n",
              "    60% {\n",
              "      border-color: transparent;\n",
              "      border-right-color: var(--fill-color);\n",
              "    }\n",
              "    80% {\n",
              "      border-color: transparent;\n",
              "      border-right-color: var(--fill-color);\n",
              "      border-bottom-color: var(--fill-color);\n",
              "    }\n",
              "    90% {\n",
              "      border-color: transparent;\n",
              "      border-bottom-color: var(--fill-color);\n",
              "    }\n",
              "  }\n",
              "</style>\n",
              "\n",
              "  <script>\n",
              "    async function quickchart(key) {\n",
              "      const quickchartButtonEl =\n",
              "        document.querySelector('#' + key + ' button');\n",
              "      quickchartButtonEl.disabled = true;  // To prevent multiple clicks.\n",
              "      quickchartButtonEl.classList.add('colab-df-spinner');\n",
              "      try {\n",
              "        const charts = await google.colab.kernel.invokeFunction(\n",
              "            'suggestCharts', [key], {});\n",
              "      } catch (error) {\n",
              "        console.error('Error during call to suggestCharts:', error);\n",
              "      }\n",
              "      quickchartButtonEl.classList.remove('colab-df-spinner');\n",
              "      quickchartButtonEl.classList.add('colab-df-quickchart-complete');\n",
              "    }\n",
              "    (() => {\n",
              "      let quickchartButtonEl =\n",
              "        document.querySelector('#df-ba15ca16-d34b-4b4c-b000-16156697a8d8 button');\n",
              "      quickchartButtonEl.style.display =\n",
              "        google.colab.kernel.accessAllowed ? 'block' : 'none';\n",
              "    })();\n",
              "  </script>\n",
              "</div>\n",
              "    </div>\n",
              "  </div>\n"
            ]
          },
          "metadata": {},
          "execution_count": 419
        }
      ]
    },
    {
      "cell_type": "markdown",
      "source": [
        "# Web scrap of the following page\n",
        "https://predoc.org/opportunities"
      ],
      "metadata": {
        "id": "OKbASGpN7GM1"
      }
    },
    {
      "cell_type": "code",
      "source": [
        "from bs4 import BeautifulSoup\n",
        "import requests\n",
        "\n",
        "url = \"https://predoc.org/opportunities\"\n",
        "response = requests.get(url, verify=False)\n",
        "soup = BeautifulSoup(response.text, 'html.parser')\n"
      ],
      "metadata": {
        "colab": {
          "base_uri": "https://localhost:8080/"
        },
        "id": "Utcvns1g7HmC",
        "outputId": "0c07ee34-a410-4970-ae56-efee127c3590"
      },
      "execution_count": 420,
      "outputs": [
        {
          "output_type": "stream",
          "name": "stderr",
          "text": [
            "/usr/local/lib/python3.10/dist-packages/urllib3/connectionpool.py:1095: InsecureRequestWarning: Unverified HTTPS request is being made to host 'predoc.org'. Adding certificate verification is strongly advised. See: https://urllib3.readthedocs.io/en/latest/advanced-usage.html#tls-warnings\n",
            "  warnings.warn(\n"
          ]
        }
      ]
    },
    {
      "cell_type": "code",
      "source": [
        "institutions = []\n",
        "fields = []\n",
        "deadlines = []\n",
        "researchers =[]\n",
        "\n",
        "copy_divs = soup.find_all('div', class_='copy')\n",
        "\n",
        "for copy_div in copy_divs:\n",
        "  temp_text = copy_div.get_text()\n",
        "\n",
        "  temp_researcher = temp_text[temp_text.find(\"Researcher\"):].split(\"\\n\")[0].split(\":\")[-1].strip()\n",
        "  researchers.append(temp_researcher)\n",
        "\n",
        "  temp_field = temp_text[temp_text.find(\"Field\"):].split(\"\\n\")[0].split(\":\")[-1].strip()\n",
        "  if temp_field.lower() == \"field\":\n",
        "    temp_field = \"\"\n",
        "  fields.append(temp_field)\n",
        "\n",
        "  temp_institution = temp_text[temp_text.find(\"Institution\"):].split(\"\\n\")[0].split(\":\")[-1].strip()\n",
        "  institutions.append(temp_institution)\n",
        "\n",
        "  temp_dead = temp_text[temp_text.find(\"Deadline\"):].split(\"\\n\")[0]\n",
        "  temp_dead_split = temp_dead.split(\":\")\n",
        "  if len(temp_dead_split)>1:\n",
        "    deadlines.append(temp_dead_split[1])\n",
        "  else:\n",
        "    deadlines.append(\"\")\n"
      ],
      "metadata": {
        "id": "vKhnXmzT7Hfu"
      },
      "execution_count": 421,
      "outputs": []
    },
    {
      "cell_type": "code",
      "source": [
        "copy_divs = soup.find_all('div', class_='copy')\n",
        "h_links = []\n",
        "\n",
        "for copy_div in copy_divs:\n",
        "  a_tag = copy_div.find(\"a\")\n",
        "  h_links.append(a_tag[\"href\"])"
      ],
      "metadata": {
        "id": "FCzjbPjbeDV5"
      },
      "execution_count": 424,
      "outputs": []
    },
    {
      "cell_type": "code",
      "source": [
        "import pandas as pd\n",
        "\n",
        "df_op = pd.DataFrame({\"Deadlines\": deadlines,\n",
        "                      \"Institution\":institutions,\n",
        "                      \"Researcher\": researchers,\n",
        "                      \"Field\":fields,\n",
        "                      \"Links\":h_links})\n",
        "\n",
        "df_op[df_op[\"Researcher\"] == \"Luigi Zingales\"]"
      ],
      "metadata": {
        "colab": {
          "base_uri": "https://localhost:8080/",
          "height": 112
        },
        "id": "c_OQohqHByMz",
        "outputId": "6880d5bc-4acb-4127-c35d-ec2dc4d4e710"
      },
      "execution_count": 425,
      "outputs": [
        {
          "output_type": "execute_result",
          "data": {
            "text/plain": [
              "                                             Deadlines  \\\n",
              "8     Initial review on October 16, rolling thereafter   \n",
              "125                                                      \n",
              "\n",
              "                                           Institution      Researcher  \\\n",
              "8    The Stigler Center for the Study of the Econom...  Luigi Zingales   \n",
              "125  University of Chicago Booth School of Business...  Luigi Zingales   \n",
              "\n",
              "                                                 Field                   Links  \n",
              "8    Finance, Microeconomics, Political Economy, Pu...  https://bit.ly/3lKJlQT  \n",
              "125  Economics, Political Economy, Finance, Public ...  https://bit.ly/3lKJlQT  "
            ],
            "text/html": [
              "\n",
              "  <div id=\"df-bc36b9db-54d6-48d3-ba38-45e213501973\" class=\"colab-df-container\">\n",
              "    <div>\n",
              "<style scoped>\n",
              "    .dataframe tbody tr th:only-of-type {\n",
              "        vertical-align: middle;\n",
              "    }\n",
              "\n",
              "    .dataframe tbody tr th {\n",
              "        vertical-align: top;\n",
              "    }\n",
              "\n",
              "    .dataframe thead th {\n",
              "        text-align: right;\n",
              "    }\n",
              "</style>\n",
              "<table border=\"1\" class=\"dataframe\">\n",
              "  <thead>\n",
              "    <tr style=\"text-align: right;\">\n",
              "      <th></th>\n",
              "      <th>Deadlines</th>\n",
              "      <th>Institution</th>\n",
              "      <th>Researcher</th>\n",
              "      <th>Field</th>\n",
              "      <th>Links</th>\n",
              "    </tr>\n",
              "  </thead>\n",
              "  <tbody>\n",
              "    <tr>\n",
              "      <th>8</th>\n",
              "      <td>Initial review on October 16, rolling thereafter</td>\n",
              "      <td>The Stigler Center for the Study of the Econom...</td>\n",
              "      <td>Luigi Zingales</td>\n",
              "      <td>Finance, Microeconomics, Political Economy, Pu...</td>\n",
              "      <td>https://bit.ly/3lKJlQT</td>\n",
              "    </tr>\n",
              "    <tr>\n",
              "      <th>125</th>\n",
              "      <td></td>\n",
              "      <td>University of Chicago Booth School of Business...</td>\n",
              "      <td>Luigi Zingales</td>\n",
              "      <td>Economics, Political Economy, Finance, Public ...</td>\n",
              "      <td>https://bit.ly/3lKJlQT</td>\n",
              "    </tr>\n",
              "  </tbody>\n",
              "</table>\n",
              "</div>\n",
              "    <div class=\"colab-df-buttons\">\n",
              "\n",
              "  <div class=\"colab-df-container\">\n",
              "    <button class=\"colab-df-convert\" onclick=\"convertToInteractive('df-bc36b9db-54d6-48d3-ba38-45e213501973')\"\n",
              "            title=\"Convert this dataframe to an interactive table.\"\n",
              "            style=\"display:none;\">\n",
              "\n",
              "  <svg xmlns=\"http://www.w3.org/2000/svg\" height=\"24px\" viewBox=\"0 -960 960 960\">\n",
              "    <path d=\"M120-120v-720h720v720H120Zm60-500h600v-160H180v160Zm220 220h160v-160H400v160Zm0 220h160v-160H400v160ZM180-400h160v-160H180v160Zm440 0h160v-160H620v160ZM180-180h160v-160H180v160Zm440 0h160v-160H620v160Z\"/>\n",
              "  </svg>\n",
              "    </button>\n",
              "\n",
              "  <style>\n",
              "    .colab-df-container {\n",
              "      display:flex;\n",
              "      gap: 12px;\n",
              "    }\n",
              "\n",
              "    .colab-df-convert {\n",
              "      background-color: #E8F0FE;\n",
              "      border: none;\n",
              "      border-radius: 50%;\n",
              "      cursor: pointer;\n",
              "      display: none;\n",
              "      fill: #1967D2;\n",
              "      height: 32px;\n",
              "      padding: 0 0 0 0;\n",
              "      width: 32px;\n",
              "    }\n",
              "\n",
              "    .colab-df-convert:hover {\n",
              "      background-color: #E2EBFA;\n",
              "      box-shadow: 0px 1px 2px rgba(60, 64, 67, 0.3), 0px 1px 3px 1px rgba(60, 64, 67, 0.15);\n",
              "      fill: #174EA6;\n",
              "    }\n",
              "\n",
              "    .colab-df-buttons div {\n",
              "      margin-bottom: 4px;\n",
              "    }\n",
              "\n",
              "    [theme=dark] .colab-df-convert {\n",
              "      background-color: #3B4455;\n",
              "      fill: #D2E3FC;\n",
              "    }\n",
              "\n",
              "    [theme=dark] .colab-df-convert:hover {\n",
              "      background-color: #434B5C;\n",
              "      box-shadow: 0px 1px 3px 1px rgba(0, 0, 0, 0.15);\n",
              "      filter: drop-shadow(0px 1px 2px rgba(0, 0, 0, 0.3));\n",
              "      fill: #FFFFFF;\n",
              "    }\n",
              "  </style>\n",
              "\n",
              "    <script>\n",
              "      const buttonEl =\n",
              "        document.querySelector('#df-bc36b9db-54d6-48d3-ba38-45e213501973 button.colab-df-convert');\n",
              "      buttonEl.style.display =\n",
              "        google.colab.kernel.accessAllowed ? 'block' : 'none';\n",
              "\n",
              "      async function convertToInteractive(key) {\n",
              "        const element = document.querySelector('#df-bc36b9db-54d6-48d3-ba38-45e213501973');\n",
              "        const dataTable =\n",
              "          await google.colab.kernel.invokeFunction('convertToInteractive',\n",
              "                                                    [key], {});\n",
              "        if (!dataTable) return;\n",
              "\n",
              "        const docLinkHtml = 'Like what you see? Visit the ' +\n",
              "          '<a target=\"_blank\" href=https://colab.research.google.com/notebooks/data_table.ipynb>data table notebook</a>'\n",
              "          + ' to learn more about interactive tables.';\n",
              "        element.innerHTML = '';\n",
              "        dataTable['output_type'] = 'display_data';\n",
              "        await google.colab.output.renderOutput(dataTable, element);\n",
              "        const docLink = document.createElement('div');\n",
              "        docLink.innerHTML = docLinkHtml;\n",
              "        element.appendChild(docLink);\n",
              "      }\n",
              "    </script>\n",
              "  </div>\n",
              "\n",
              "\n",
              "<div id=\"df-470edb62-3fba-477a-8723-406c01d50401\">\n",
              "  <button class=\"colab-df-quickchart\" onclick=\"quickchart('df-470edb62-3fba-477a-8723-406c01d50401')\"\n",
              "            title=\"Suggest charts.\"\n",
              "            style=\"display:none;\">\n",
              "\n",
              "<svg xmlns=\"http://www.w3.org/2000/svg\" height=\"24px\"viewBox=\"0 0 24 24\"\n",
              "     width=\"24px\">\n",
              "    <g>\n",
              "        <path d=\"M19 3H5c-1.1 0-2 .9-2 2v14c0 1.1.9 2 2 2h14c1.1 0 2-.9 2-2V5c0-1.1-.9-2-2-2zM9 17H7v-7h2v7zm4 0h-2V7h2v10zm4 0h-2v-4h2v4z\"/>\n",
              "    </g>\n",
              "</svg>\n",
              "  </button>\n",
              "\n",
              "<style>\n",
              "  .colab-df-quickchart {\n",
              "      --bg-color: #E8F0FE;\n",
              "      --fill-color: #1967D2;\n",
              "      --hover-bg-color: #E2EBFA;\n",
              "      --hover-fill-color: #174EA6;\n",
              "      --disabled-fill-color: #AAA;\n",
              "      --disabled-bg-color: #DDD;\n",
              "  }\n",
              "\n",
              "  [theme=dark] .colab-df-quickchart {\n",
              "      --bg-color: #3B4455;\n",
              "      --fill-color: #D2E3FC;\n",
              "      --hover-bg-color: #434B5C;\n",
              "      --hover-fill-color: #FFFFFF;\n",
              "      --disabled-bg-color: #3B4455;\n",
              "      --disabled-fill-color: #666;\n",
              "  }\n",
              "\n",
              "  .colab-df-quickchart {\n",
              "    background-color: var(--bg-color);\n",
              "    border: none;\n",
              "    border-radius: 50%;\n",
              "    cursor: pointer;\n",
              "    display: none;\n",
              "    fill: var(--fill-color);\n",
              "    height: 32px;\n",
              "    padding: 0;\n",
              "    width: 32px;\n",
              "  }\n",
              "\n",
              "  .colab-df-quickchart:hover {\n",
              "    background-color: var(--hover-bg-color);\n",
              "    box-shadow: 0 1px 2px rgba(60, 64, 67, 0.3), 0 1px 3px 1px rgba(60, 64, 67, 0.15);\n",
              "    fill: var(--button-hover-fill-color);\n",
              "  }\n",
              "\n",
              "  .colab-df-quickchart-complete:disabled,\n",
              "  .colab-df-quickchart-complete:disabled:hover {\n",
              "    background-color: var(--disabled-bg-color);\n",
              "    fill: var(--disabled-fill-color);\n",
              "    box-shadow: none;\n",
              "  }\n",
              "\n",
              "  .colab-df-spinner {\n",
              "    border: 2px solid var(--fill-color);\n",
              "    border-color: transparent;\n",
              "    border-bottom-color: var(--fill-color);\n",
              "    animation:\n",
              "      spin 1s steps(1) infinite;\n",
              "  }\n",
              "\n",
              "  @keyframes spin {\n",
              "    0% {\n",
              "      border-color: transparent;\n",
              "      border-bottom-color: var(--fill-color);\n",
              "      border-left-color: var(--fill-color);\n",
              "    }\n",
              "    20% {\n",
              "      border-color: transparent;\n",
              "      border-left-color: var(--fill-color);\n",
              "      border-top-color: var(--fill-color);\n",
              "    }\n",
              "    30% {\n",
              "      border-color: transparent;\n",
              "      border-left-color: var(--fill-color);\n",
              "      border-top-color: var(--fill-color);\n",
              "      border-right-color: var(--fill-color);\n",
              "    }\n",
              "    40% {\n",
              "      border-color: transparent;\n",
              "      border-right-color: var(--fill-color);\n",
              "      border-top-color: var(--fill-color);\n",
              "    }\n",
              "    60% {\n",
              "      border-color: transparent;\n",
              "      border-right-color: var(--fill-color);\n",
              "    }\n",
              "    80% {\n",
              "      border-color: transparent;\n",
              "      border-right-color: var(--fill-color);\n",
              "      border-bottom-color: var(--fill-color);\n",
              "    }\n",
              "    90% {\n",
              "      border-color: transparent;\n",
              "      border-bottom-color: var(--fill-color);\n",
              "    }\n",
              "  }\n",
              "</style>\n",
              "\n",
              "  <script>\n",
              "    async function quickchart(key) {\n",
              "      const quickchartButtonEl =\n",
              "        document.querySelector('#' + key + ' button');\n",
              "      quickchartButtonEl.disabled = true;  // To prevent multiple clicks.\n",
              "      quickchartButtonEl.classList.add('colab-df-spinner');\n",
              "      try {\n",
              "        const charts = await google.colab.kernel.invokeFunction(\n",
              "            'suggestCharts', [key], {});\n",
              "      } catch (error) {\n",
              "        console.error('Error during call to suggestCharts:', error);\n",
              "      }\n",
              "      quickchartButtonEl.classList.remove('colab-df-spinner');\n",
              "      quickchartButtonEl.classList.add('colab-df-quickchart-complete');\n",
              "    }\n",
              "    (() => {\n",
              "      let quickchartButtonEl =\n",
              "        document.querySelector('#df-470edb62-3fba-477a-8723-406c01d50401 button');\n",
              "      quickchartButtonEl.style.display =\n",
              "        google.colab.kernel.accessAllowed ? 'block' : 'none';\n",
              "    })();\n",
              "  </script>\n",
              "</div>\n",
              "    </div>\n",
              "  </div>\n"
            ]
          },
          "metadata": {},
          "execution_count": 425
        }
      ]
    },
    {
      "cell_type": "code",
      "source": [
        "import numpy as np\n",
        "\n",
        "# change the deadline into the consistent form\n",
        "date_pattern = r\"(?i)((?:January|February|March|April|May|June|July|August|September|October|November|December)\\s+\\d{1,2})\"\n",
        "\n",
        "df_op['Deadline'] = df_op['Deadlines'].str.extract(date_pattern, expand=False)\n",
        "df_op.loc[df_op['Deadline'].isna() & df_op['Deadlines'].str.contains(r'(?i)rolling'), 'Deadline'] = 'Rolling'\n",
        "df_op.loc[df_op['Deadline'].isna() & df_op['Deadlines'].str.contains(r'(?i)ASAP'), 'Deadline'] = 'ASAP'"
      ],
      "metadata": {
        "id": "rJqrp2kX7HaF"
      },
      "execution_count": 426,
      "outputs": []
    },
    {
      "cell_type": "code",
      "source": [
        "df_op = df_op[(df_op[\"Deadlines\"] != \"\")]\n",
        "df_op = df_op[(df_op[\"Deadline\"] != \"\")]\n",
        "df_op = df_op.dropna(subset=\"Deadline\")"
      ],
      "metadata": {
        "id": "gzrcrFlpMnRP"
      },
      "execution_count": 427,
      "outputs": []
    },
    {
      "cell_type": "markdown",
      "source": [
        "# Sort the data"
      ],
      "metadata": {
        "id": "kFEej51DJUQ-"
      }
    },
    {
      "cell_type": "code",
      "source": [
        "import datetime\n",
        "\n",
        "def convert_deadline(deadline):\n",
        "  if deadline == \"ASAP\":\n",
        "    return pd.to_datetime(\"2099-12-31\")\n",
        "  elif deadline == \"Rolling\":\n",
        "    return pd.to_datetime(\"2098-12-31\")\n",
        "  elif pd.isna(deadline):\n",
        "    return pd.to_datetime(\"2099-12-31\")\n",
        "  else:\n",
        "    return pd.to_datetime(f\"{datetime.date.today().year} {deadline}\", format = \"%Y %B %d\")\n",
        "\n",
        "df_ra[\"deadline_index\"] = df_ra[\"Deadline\"].apply(convert_deadline)\n",
        "\n",
        "today = datetime.datetime.now().date()\n",
        "df_ra = df_ra[df_ra[\"deadline_index\"] >= pd.to_datetime(today)]\n",
        "\n",
        "# sort the data by date\n",
        "df_ra = df_ra.sort_values(by = \"deadline_index\", ascending=True)\n",
        "\n",
        "# change the order\n",
        "df_ra = df_ra[[\"Deadline\", \"Institution\", \"Researcher\", \"Field\", \"Links\", \"Deadlines\"]]\n"
      ],
      "metadata": {
        "id": "rAwINvU9JYZ9"
      },
      "execution_count": 428,
      "outputs": []
    },
    {
      "cell_type": "code",
      "source": [
        "df_op[\"deadline_index\"] = df_op[\"Deadline\"].apply(convert_deadline)\n",
        "\n",
        "\n",
        "today = datetime.datetime.now().date()\n",
        "df_op = df_op[df_op[\"deadline_index\"] >= pd.to_datetime(today)]\n",
        "\n",
        "# sort the data by date\n",
        "df_op = df_op.sort_values(by = \"deadline_index\", ascending=True)\n",
        "\n",
        "# change the order\n",
        "df_op = df_op[[\"Deadline\", \"Institution\", \"Researcher\", \"Field\", \"Links\", \"Deadlines\"]]"
      ],
      "metadata": {
        "id": "MwAWY-TFLQE9"
      },
      "execution_count": 429,
      "outputs": []
    },
    {
      "cell_type": "markdown",
      "source": [
        "# Save the output as Exce lfile"
      ],
      "metadata": {
        "id": "OKDOxxZiIL0Z"
      }
    },
    {
      "cell_type": "code",
      "source": [
        "import pandas as pd\n",
        "\n",
        "with pd.ExcelWriter(\"output.xlsx\") as writer:\n",
        "\n",
        "    # use to_excel function and specify the sheet_name and index\n",
        "    # to store the dataframe in specified sheet\n",
        "    df_op.to_excel(writer, sheet_name=\"Opportunities page\", index=False)\n",
        "    df_ra.to_excel(writer, sheet_name=\"RA Opportunities page\", index=False)\n"
      ],
      "metadata": {
        "id": "vikebRwo7Gp0"
      },
      "execution_count": 431,
      "outputs": []
    },
    {
      "cell_type": "code",
      "source": [
        "from google.colab import files\n",
        "files.download(\"output.xlsx\")\n"
      ],
      "metadata": {
        "colab": {
          "base_uri": "https://localhost:8080/",
          "height": 17
        },
        "id": "evK0n9rB4pst",
        "outputId": "387d669a-a7df-479b-f508-a45a70189a8c"
      },
      "execution_count": 432,
      "outputs": [
        {
          "output_type": "display_data",
          "data": {
            "text/plain": [
              "<IPython.core.display.Javascript object>"
            ],
            "application/javascript": [
              "\n",
              "    async function download(id, filename, size) {\n",
              "      if (!google.colab.kernel.accessAllowed) {\n",
              "        return;\n",
              "      }\n",
              "      const div = document.createElement('div');\n",
              "      const label = document.createElement('label');\n",
              "      label.textContent = `Downloading \"${filename}\": `;\n",
              "      div.appendChild(label);\n",
              "      const progress = document.createElement('progress');\n",
              "      progress.max = size;\n",
              "      div.appendChild(progress);\n",
              "      document.body.appendChild(div);\n",
              "\n",
              "      const buffers = [];\n",
              "      let downloaded = 0;\n",
              "\n",
              "      const channel = await google.colab.kernel.comms.open(id);\n",
              "      // Send a message to notify the kernel that we're ready.\n",
              "      channel.send({})\n",
              "\n",
              "      for await (const message of channel.messages) {\n",
              "        // Send a message to notify the kernel that we're ready.\n",
              "        channel.send({})\n",
              "        if (message.buffers) {\n",
              "          for (const buffer of message.buffers) {\n",
              "            buffers.push(buffer);\n",
              "            downloaded += buffer.byteLength;\n",
              "            progress.value = downloaded;\n",
              "          }\n",
              "        }\n",
              "      }\n",
              "      const blob = new Blob(buffers, {type: 'application/binary'});\n",
              "      const a = document.createElement('a');\n",
              "      a.href = window.URL.createObjectURL(blob);\n",
              "      a.download = filename;\n",
              "      div.appendChild(a);\n",
              "      a.click();\n",
              "      div.remove();\n",
              "    }\n",
              "  "
            ]
          },
          "metadata": {}
        },
        {
          "output_type": "display_data",
          "data": {
            "text/plain": [
              "<IPython.core.display.Javascript object>"
            ],
            "application/javascript": [
              "download(\"download_3bbf5d5a-3623-47a0-baf1-2f9b670c4441\", \"output.xlsx\", 15486)"
            ]
          },
          "metadata": {}
        }
      ]
    },
    {
      "cell_type": "markdown",
      "source": [
        "# Extra Codes\n",
        "Opportunities page (with html header)"
      ],
      "metadata": {
        "id": "7Q8b8oMp74nM"
      }
    },
    {
      "cell_type": "code",
      "source": [
        "# In case of using html headers\n",
        "\n",
        "from bs4 import BeautifulSoup\n",
        "import requests\n",
        "\n",
        "url = \"https://predoc.org/opportunities\"\n",
        "response = requests.get(url, verify=False)\n",
        "soup = BeautifulSoup(response.text, 'html.parser')\n"
      ],
      "metadata": {
        "id": "7S8Ti9iKf2ml"
      },
      "execution_count": null,
      "outputs": []
    },
    {
      "cell_type": "code",
      "source": [
        "# All the values can be single or multiples\n",
        "# The text data are from div (class = \"copy\")\n",
        "# I assumed that the information posted in opportunities are aligned in the same format\n",
        "# I got the hyperlinks from div.copy a.general-link\n",
        "\n",
        "# the code for the link needs to be corrected\n",
        "\n",
        "copy_divs = soup.find_all('div', class_='copy')\n",
        "\n",
        "institutions = []\n",
        "for copy_div in copy_divs:\n",
        "    p_tags = copy_div.find_all(\"p\")\n",
        "    for p_tag in p_tags:\n",
        "        strong_tags = p_tag.find_all('strong')\n",
        "        for strong_tag in strong_tags:\n",
        "          if \"Institution\" in strong_tag.get_text():\n",
        "            em_tag = strong_tag.find_next(\"em\")\n",
        "            institutions.append(em_tag.get_text())\n",
        "            #print(em_tag.get_text())"
      ],
      "metadata": {
        "id": "qGOtUKcC1PUK"
      },
      "execution_count": null,
      "outputs": []
    },
    {
      "cell_type": "code",
      "source": [
        "\n"
      ],
      "metadata": {
        "colab": {
          "base_uri": "https://localhost:8080/"
        },
        "id": "3fNwmEw50Q4A",
        "outputId": "595ea036-4ee1-4308-c3ce-05653ca17fd8"
      },
      "execution_count": null,
      "outputs": [
        {
          "output_type": "stream",
          "name": "stderr",
          "text": [
            "/usr/local/lib/python3.10/dist-packages/urllib3/connectionpool.py:1095: InsecureRequestWarning: Unverified HTTPS request is being made to host 'predoc.org'. Adding certificate verification is strongly advised. See: https://urllib3.readthedocs.io/en/latest/advanced-usage.html#tls-warnings\n",
            "  warnings.warn(\n"
          ]
        }
      ]
    },
    {
      "cell_type": "code",
      "source": [
        "# Deadlines\n",
        "# nested under div > p > strong > Deadline\n",
        "\n",
        "copy_divs = soup.find_all('div', class_='copy')\n",
        "\n",
        "deadlines = []\n",
        "\n",
        "for copy_div in copy_divs:\n",
        "    p_tags = copy_div.find_all(\"p\")\n",
        "    for p_tag in p_tags:\n",
        "        strong_tags = p_tag.find_all('strong')\n",
        "        for strong_tag in strong_tags:\n",
        "          # print(strong_tag.get_text(), strong_tag.next_sibling, \"\\n\")\n",
        "          if \"Deadline\" in strong_tag.get_text():\n",
        "            # print(strong_tag.next_sibling)\n",
        "            next_sibling = strong_tag.next_sibling\n",
        "            if next_sibling:\n",
        "              deadlines.append(next_sibling.strip())\n",
        "            else:\n",
        "              deadlines.append(\"\")  # Add an empty string if \"researchers\" is not found\n",
        "\n",
        "fields = []\n",
        "\n",
        "for copy_div in copy_divs:\n",
        "    p_tags = copy_div.find_all(\"p\")\n",
        "    for p_tag in p_tags:\n",
        "        strong_tags = p_tag.find_all('strong')\n",
        "        for strong_tag in strong_tags:\n",
        "          # print(strong_tag.get_text(), strong_tag.next_sibling, \"\\n\")\n",
        "          if \"Field\" in strong_tag.get_text():\n",
        "            # print(strong_tag.next_sibling)\n",
        "            next_sibling = strong_tag.next_sibling\n",
        "            if next_sibling:\n",
        "              fields.append(next_sibling.strip().strip(\":\"))\n",
        "            else:\n",
        "              fields.append(\"\")  # Add an empty string if \"researchers\" is not found\n",
        "\n",
        "\n",
        "print(len(fields))\n",
        "\n",
        "\n",
        "researchers = []\n",
        "for copy_div in copy_divs:\n",
        "    p_tags = copy_div.find_all(\"p\")\n",
        "    for p_tag in p_tags:\n",
        "      #print(p_tag.get_text(), \"\\n\")\n",
        "      if \"Researcher\" in p_tag.get_text() or \"Researcher(s)\" in p_tag.get_text():\n",
        "        strong_tags = p_tag.find_all('strong')\n",
        "        for strong_tag in strong_tags:\n",
        "          if \"Researcher\" in strong_tag.get_text() or \"Researcher(s)\" in strong_tag.get_text() :\n",
        "              next_sibling = strong_tag.next_sibling\n",
        "              researchers.append(next_sibling.strip().strip(\":\").strip(\"()\"))\n",
        "      else:\n",
        "        researchers.append(\"None\")\n",
        "\n",
        "\n",
        "links = []\n",
        "a_tags = soup.select('div.copy a.general-link')\n",
        "for a_tag in a_tags:\n",
        "    # print(a_tag[\"href\"])\n",
        "    links.append(a_tag[\"href\"])\n"
      ],
      "metadata": {
        "colab": {
          "base_uri": "https://localhost:8080/"
        },
        "id": "LvAQMqZo0Qyl",
        "outputId": "28c80db6-5f6d-47de-cd4e-9ddb7a646b07"
      },
      "execution_count": null,
      "outputs": [
        {
          "output_type": "stream",
          "name": "stdout",
          "text": [
            "58\n"
          ]
        }
      ]
    }
  ]
}