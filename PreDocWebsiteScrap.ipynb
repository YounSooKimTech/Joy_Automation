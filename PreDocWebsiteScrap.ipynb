{
  "nbformat": 4,
  "nbformat_minor": 0,
  "metadata": {
    "colab": {
      "provenance": [],
      "authorship_tag": "ABX9TyO+VioM8qeS66BmA+9pWw/J",
      "include_colab_link": true
    },
    "kernelspec": {
      "name": "python3",
      "display_name": "Python 3"
    },
    "language_info": {
      "name": "python"
    }
  },
  "cells": [
    {
      "cell_type": "markdown",
      "metadata": {
        "id": "view-in-github",
        "colab_type": "text"
      },
      "source": [
        "<a href=\"https://colab.research.google.com/github/YounSooKimTech/Joy_Automation/blob/main/PreDocWebsiteScrap.ipynb\" target=\"_parent\"><img src=\"https://colab.research.google.com/assets/colab-badge.svg\" alt=\"Open In Colab\"/></a>"
      ]
    },
    {
      "cell_type": "code",
      "execution_count": 454,
      "metadata": {
        "id": "CcPHQDCz0Bwk"
      },
      "outputs": [],
      "source": [
        "# ! pip install beautifulsoup4 requests"
      ]
    },
    {
      "cell_type": "markdown",
      "source": [
        "# Web scrap of the following page:\n",
        "\n",
        "https://predoc.org/ra-opportunities"
      ],
      "metadata": {
        "id": "pTeBNVUP76pQ"
      }
    },
    {
      "cell_type": "code",
      "source": [
        "# Due to the characteristics in the page\n",
        "# I used text extraction with index for the information\n",
        "# maybe, using text[index:] can be a better way to extract information I guess"
      ],
      "metadata": {
        "id": "yfW-qJfkIMjK"
      },
      "execution_count": 455,
      "outputs": []
    },
    {
      "cell_type": "code",
      "source": [
        "from bs4 import BeautifulSoup\n",
        "import requests\n",
        "\n",
        "url = \"https://predoc.org/ra-opportunities\"\n",
        "response = requests.get(url, verify=False)\n",
        "soup = BeautifulSoup(response.text, 'html.parser')"
      ],
      "metadata": {
        "colab": {
          "base_uri": "https://localhost:8080/"
        },
        "id": "ihaIbm0M782l",
        "outputId": "0add749b-6931-4585-e895-d4877c6aa0e7"
      },
      "execution_count": 456,
      "outputs": [
        {
          "output_type": "stream",
          "name": "stderr",
          "text": [
            "/usr/local/lib/python3.10/dist-packages/urllib3/connectionpool.py:1095: InsecureRequestWarning: Unverified HTTPS request is being made to host 'predoc.org'. Adding certificate verification is strongly advised. See: https://urllib3.readthedocs.io/en/latest/advanced-usage.html#tls-warnings\n",
            "  warnings.warn(\n"
          ]
        }
      ]
    },
    {
      "cell_type": "code",
      "source": [
        "div_tags = soup.find_all(\"div\", class_ = \"body-copy\")\n",
        "\n",
        "h_links = []\n",
        "\n",
        "for div_tag in div_tags:\n",
        "  li_tags = div_tag.find_all(\"li\")\n",
        "  for li_tag in li_tags:\n",
        "    a_tag = li_tag.find(\"a\")\n",
        "    h_links.append(a_tag[\"href\"])\n",
        "\n",
        "h_links"
      ],
      "metadata": {
        "colab": {
          "base_uri": "https://localhost:8080/"
        },
        "id": "FoJFVcpjc1EU",
        "outputId": "23df6cba-9679-47a8-e968-90962598af14"
      },
      "execution_count": 457,
      "outputs": [
        {
          "output_type": "execute_result",
          "data": {
            "text/plain": [
              "['https://bit.ly/3LFuCod',\n",
              " 'https://bit.ly/3PXATOv',\n",
              " 'https://bit.ly/46fL6eX',\n",
              " 'https://bit.ly/3PY7DHB',\n",
              " 'https://bit.ly/3LmEvqJ',\n",
              " 'https://bit.ly/3Csqpzn',\n",
              " 'https://bit.ly/3OifEXv',\n",
              " 'https://bit.ly/3W49Xya',\n",
              " 'https://bit.ly/447jdE2',\n",
              " 'https://twitter.com/GennaioliC/status/1673968653962735619?s=20',\n",
              " 'https://bit.ly/3CxaaB0']"
            ]
          },
          "metadata": {},
          "execution_count": 457
        }
      ]
    },
    {
      "cell_type": "code",
      "source": [
        "institutions = []\n",
        "fields = []\n",
        "deadlines = []\n",
        "researchers =[]\n",
        "\n",
        "div_tags = soup.find_all(\"div\", class_ = \"body-copy\")\n",
        "\n",
        "for div_tag in div_tags:\n",
        "  li_tags = div_tag.find_all(\"li\")\n",
        "  for li_tag in li_tags:\n",
        "\n",
        "    temp_text = li_tag.get_text()\n",
        "\n",
        "    temp_inst = temp_text[temp_text.find(\"Institution\"):].split(\":\")[1].split(\"\\n\")[0].strip()\n",
        "    institutions.append(temp_inst)\n",
        "\n",
        "    temp_field = temp_text[temp_text.find(\"Fields\"):].split(\":\")[1].split(\"\\n\")[0].strip().replace(\".\", \"\")\n",
        "    fields.append(temp_field)\n",
        "\n",
        "    temp_deadline = temp_text[temp_text.find(\"Deadline\"):].split(\":\")[1].split(\"\\n\")[0].strip()\n",
        "    deadlines.append(temp_deadline)\n",
        "\n",
        "    temp_researcher = temp_text[temp_text.find(\"Researcher\"):].split(\"\\n\")[0].split(\":\")[-1].strip()\n",
        "    if len(temp_researcher)<3:\n",
        "      temp_researcher = \"\"\n",
        "    researchers.append(temp_researcher)\n",
        "\n"
      ],
      "metadata": {
        "id": "INSa10Vb8fOo"
      },
      "execution_count": 458,
      "outputs": []
    },
    {
      "cell_type": "code",
      "source": [
        "print(len(institutions), len(h_links))"
      ],
      "metadata": {
        "colab": {
          "base_uri": "https://localhost:8080/"
        },
        "id": "Ml1FB7ridyN8",
        "outputId": "7d90f35c-9d15-4f2c-97a7-abbf7d67d7a6"
      },
      "execution_count": 459,
      "outputs": [
        {
          "output_type": "stream",
          "name": "stdout",
          "text": [
            "11 11\n"
          ]
        }
      ]
    },
    {
      "cell_type": "code",
      "source": [
        "# make it as a dataframe\n",
        "\n",
        "import pandas as pd\n",
        "\n",
        "df_ra = pd.DataFrame({\"Deadlines\": deadlines,\n",
        "                      \"Institution\":institutions,\n",
        "                      \"Researcher\": researchers,\n",
        "                      \"Field\":fields,\n",
        "                      \"Links\":h_links})\n",
        "\n",
        "\n",
        "# change the deadline into the consistent form\n",
        "date_pattern = r\"(?i)((?:January|February|March|April|May|June|July|August|September|October|November|December)\\s+\\d{1,2})\"\n",
        "\n",
        "df_ra['Deadline'] = df_ra['Deadlines'].str.extract(date_pattern, expand=False)\n",
        "df_ra.loc[df_ra['Deadline'].isna() & df_ra['Deadlines'].str.contains(r'(?i)rolling'), 'Deadline'] = 'Rolling'\n",
        "df_ra.loc[df_ra['Deadline'].isna() & df_ra['Deadlines'].str.contains(r'(?i)ASAP'), 'Deadline'] = 'ASAP'"
      ],
      "metadata": {
        "id": "aPyXcOHu-ZxT"
      },
      "execution_count": 460,
      "outputs": []
    },
    {
      "cell_type": "code",
      "source": [
        "df_ra.sample(3)"
      ],
      "metadata": {
        "colab": {
          "base_uri": "https://localhost:8080/",
          "height": 143
        },
        "id": "rp5-BWiod4yN",
        "outputId": "9c122424-57dd-4f1d-e8d6-91214b199ab8"
      },
      "execution_count": 461,
      "outputs": [
        {
          "output_type": "execute_result",
          "data": {
            "text/plain": [
              "          Deadlines                                      Institution  \\\n",
              "3  October 16, 2023                   African Development Foundation   \n",
              "4  October 16, 2023  The U.S. Government Accountability Office (GAO)   \n",
              "2  October 10, 2023  The Federal Energy Regulatory Commission (FERC)   \n",
              "\n",
              "  Researcher                                              Field  \\\n",
              "3                          Finance and budget analyst functions   \n",
              "4                                 Financial audits and analyses   \n",
              "2             Economics, environmental, energy industry, ele...   \n",
              "\n",
              "                    Links    Deadline  \n",
              "3  https://bit.ly/3PY7DHB  October 16  \n",
              "4  https://bit.ly/3LmEvqJ  October 16  \n",
              "2  https://bit.ly/46fL6eX  October 10  "
            ],
            "text/html": [
              "\n",
              "  <div id=\"df-fffd4540-1013-4fb1-ba52-fe27fcd3d9a1\" class=\"colab-df-container\">\n",
              "    <div>\n",
              "<style scoped>\n",
              "    .dataframe tbody tr th:only-of-type {\n",
              "        vertical-align: middle;\n",
              "    }\n",
              "\n",
              "    .dataframe tbody tr th {\n",
              "        vertical-align: top;\n",
              "    }\n",
              "\n",
              "    .dataframe thead th {\n",
              "        text-align: right;\n",
              "    }\n",
              "</style>\n",
              "<table border=\"1\" class=\"dataframe\">\n",
              "  <thead>\n",
              "    <tr style=\"text-align: right;\">\n",
              "      <th></th>\n",
              "      <th>Deadlines</th>\n",
              "      <th>Institution</th>\n",
              "      <th>Researcher</th>\n",
              "      <th>Field</th>\n",
              "      <th>Links</th>\n",
              "      <th>Deadline</th>\n",
              "    </tr>\n",
              "  </thead>\n",
              "  <tbody>\n",
              "    <tr>\n",
              "      <th>3</th>\n",
              "      <td>October 16, 2023</td>\n",
              "      <td>African Development Foundation</td>\n",
              "      <td></td>\n",
              "      <td>Finance and budget analyst functions</td>\n",
              "      <td>https://bit.ly/3PY7DHB</td>\n",
              "      <td>October 16</td>\n",
              "    </tr>\n",
              "    <tr>\n",
              "      <th>4</th>\n",
              "      <td>October 16, 2023</td>\n",
              "      <td>The U.S. Government Accountability Office (GAO)</td>\n",
              "      <td></td>\n",
              "      <td>Financial audits and analyses</td>\n",
              "      <td>https://bit.ly/3LmEvqJ</td>\n",
              "      <td>October 16</td>\n",
              "    </tr>\n",
              "    <tr>\n",
              "      <th>2</th>\n",
              "      <td>October 10, 2023</td>\n",
              "      <td>The Federal Energy Regulatory Commission (FERC)</td>\n",
              "      <td></td>\n",
              "      <td>Economics, environmental, energy industry, ele...</td>\n",
              "      <td>https://bit.ly/46fL6eX</td>\n",
              "      <td>October 10</td>\n",
              "    </tr>\n",
              "  </tbody>\n",
              "</table>\n",
              "</div>\n",
              "    <div class=\"colab-df-buttons\">\n",
              "\n",
              "  <div class=\"colab-df-container\">\n",
              "    <button class=\"colab-df-convert\" onclick=\"convertToInteractive('df-fffd4540-1013-4fb1-ba52-fe27fcd3d9a1')\"\n",
              "            title=\"Convert this dataframe to an interactive table.\"\n",
              "            style=\"display:none;\">\n",
              "\n",
              "  <svg xmlns=\"http://www.w3.org/2000/svg\" height=\"24px\" viewBox=\"0 -960 960 960\">\n",
              "    <path d=\"M120-120v-720h720v720H120Zm60-500h600v-160H180v160Zm220 220h160v-160H400v160Zm0 220h160v-160H400v160ZM180-400h160v-160H180v160Zm440 0h160v-160H620v160ZM180-180h160v-160H180v160Zm440 0h160v-160H620v160Z\"/>\n",
              "  </svg>\n",
              "    </button>\n",
              "\n",
              "  <style>\n",
              "    .colab-df-container {\n",
              "      display:flex;\n",
              "      gap: 12px;\n",
              "    }\n",
              "\n",
              "    .colab-df-convert {\n",
              "      background-color: #E8F0FE;\n",
              "      border: none;\n",
              "      border-radius: 50%;\n",
              "      cursor: pointer;\n",
              "      display: none;\n",
              "      fill: #1967D2;\n",
              "      height: 32px;\n",
              "      padding: 0 0 0 0;\n",
              "      width: 32px;\n",
              "    }\n",
              "\n",
              "    .colab-df-convert:hover {\n",
              "      background-color: #E2EBFA;\n",
              "      box-shadow: 0px 1px 2px rgba(60, 64, 67, 0.3), 0px 1px 3px 1px rgba(60, 64, 67, 0.15);\n",
              "      fill: #174EA6;\n",
              "    }\n",
              "\n",
              "    .colab-df-buttons div {\n",
              "      margin-bottom: 4px;\n",
              "    }\n",
              "\n",
              "    [theme=dark] .colab-df-convert {\n",
              "      background-color: #3B4455;\n",
              "      fill: #D2E3FC;\n",
              "    }\n",
              "\n",
              "    [theme=dark] .colab-df-convert:hover {\n",
              "      background-color: #434B5C;\n",
              "      box-shadow: 0px 1px 3px 1px rgba(0, 0, 0, 0.15);\n",
              "      filter: drop-shadow(0px 1px 2px rgba(0, 0, 0, 0.3));\n",
              "      fill: #FFFFFF;\n",
              "    }\n",
              "  </style>\n",
              "\n",
              "    <script>\n",
              "      const buttonEl =\n",
              "        document.querySelector('#df-fffd4540-1013-4fb1-ba52-fe27fcd3d9a1 button.colab-df-convert');\n",
              "      buttonEl.style.display =\n",
              "        google.colab.kernel.accessAllowed ? 'block' : 'none';\n",
              "\n",
              "      async function convertToInteractive(key) {\n",
              "        const element = document.querySelector('#df-fffd4540-1013-4fb1-ba52-fe27fcd3d9a1');\n",
              "        const dataTable =\n",
              "          await google.colab.kernel.invokeFunction('convertToInteractive',\n",
              "                                                    [key], {});\n",
              "        if (!dataTable) return;\n",
              "\n",
              "        const docLinkHtml = 'Like what you see? Visit the ' +\n",
              "          '<a target=\"_blank\" href=https://colab.research.google.com/notebooks/data_table.ipynb>data table notebook</a>'\n",
              "          + ' to learn more about interactive tables.';\n",
              "        element.innerHTML = '';\n",
              "        dataTable['output_type'] = 'display_data';\n",
              "        await google.colab.output.renderOutput(dataTable, element);\n",
              "        const docLink = document.createElement('div');\n",
              "        docLink.innerHTML = docLinkHtml;\n",
              "        element.appendChild(docLink);\n",
              "      }\n",
              "    </script>\n",
              "  </div>\n",
              "\n",
              "\n",
              "<div id=\"df-03dfb95f-2984-4107-b8b4-e2472740507c\">\n",
              "  <button class=\"colab-df-quickchart\" onclick=\"quickchart('df-03dfb95f-2984-4107-b8b4-e2472740507c')\"\n",
              "            title=\"Suggest charts.\"\n",
              "            style=\"display:none;\">\n",
              "\n",
              "<svg xmlns=\"http://www.w3.org/2000/svg\" height=\"24px\"viewBox=\"0 0 24 24\"\n",
              "     width=\"24px\">\n",
              "    <g>\n",
              "        <path d=\"M19 3H5c-1.1 0-2 .9-2 2v14c0 1.1.9 2 2 2h14c1.1 0 2-.9 2-2V5c0-1.1-.9-2-2-2zM9 17H7v-7h2v7zm4 0h-2V7h2v10zm4 0h-2v-4h2v4z\"/>\n",
              "    </g>\n",
              "</svg>\n",
              "  </button>\n",
              "\n",
              "<style>\n",
              "  .colab-df-quickchart {\n",
              "      --bg-color: #E8F0FE;\n",
              "      --fill-color: #1967D2;\n",
              "      --hover-bg-color: #E2EBFA;\n",
              "      --hover-fill-color: #174EA6;\n",
              "      --disabled-fill-color: #AAA;\n",
              "      --disabled-bg-color: #DDD;\n",
              "  }\n",
              "\n",
              "  [theme=dark] .colab-df-quickchart {\n",
              "      --bg-color: #3B4455;\n",
              "      --fill-color: #D2E3FC;\n",
              "      --hover-bg-color: #434B5C;\n",
              "      --hover-fill-color: #FFFFFF;\n",
              "      --disabled-bg-color: #3B4455;\n",
              "      --disabled-fill-color: #666;\n",
              "  }\n",
              "\n",
              "  .colab-df-quickchart {\n",
              "    background-color: var(--bg-color);\n",
              "    border: none;\n",
              "    border-radius: 50%;\n",
              "    cursor: pointer;\n",
              "    display: none;\n",
              "    fill: var(--fill-color);\n",
              "    height: 32px;\n",
              "    padding: 0;\n",
              "    width: 32px;\n",
              "  }\n",
              "\n",
              "  .colab-df-quickchart:hover {\n",
              "    background-color: var(--hover-bg-color);\n",
              "    box-shadow: 0 1px 2px rgba(60, 64, 67, 0.3), 0 1px 3px 1px rgba(60, 64, 67, 0.15);\n",
              "    fill: var(--button-hover-fill-color);\n",
              "  }\n",
              "\n",
              "  .colab-df-quickchart-complete:disabled,\n",
              "  .colab-df-quickchart-complete:disabled:hover {\n",
              "    background-color: var(--disabled-bg-color);\n",
              "    fill: var(--disabled-fill-color);\n",
              "    box-shadow: none;\n",
              "  }\n",
              "\n",
              "  .colab-df-spinner {\n",
              "    border: 2px solid var(--fill-color);\n",
              "    border-color: transparent;\n",
              "    border-bottom-color: var(--fill-color);\n",
              "    animation:\n",
              "      spin 1s steps(1) infinite;\n",
              "  }\n",
              "\n",
              "  @keyframes spin {\n",
              "    0% {\n",
              "      border-color: transparent;\n",
              "      border-bottom-color: var(--fill-color);\n",
              "      border-left-color: var(--fill-color);\n",
              "    }\n",
              "    20% {\n",
              "      border-color: transparent;\n",
              "      border-left-color: var(--fill-color);\n",
              "      border-top-color: var(--fill-color);\n",
              "    }\n",
              "    30% {\n",
              "      border-color: transparent;\n",
              "      border-left-color: var(--fill-color);\n",
              "      border-top-color: var(--fill-color);\n",
              "      border-right-color: var(--fill-color);\n",
              "    }\n",
              "    40% {\n",
              "      border-color: transparent;\n",
              "      border-right-color: var(--fill-color);\n",
              "      border-top-color: var(--fill-color);\n",
              "    }\n",
              "    60% {\n",
              "      border-color: transparent;\n",
              "      border-right-color: var(--fill-color);\n",
              "    }\n",
              "    80% {\n",
              "      border-color: transparent;\n",
              "      border-right-color: var(--fill-color);\n",
              "      border-bottom-color: var(--fill-color);\n",
              "    }\n",
              "    90% {\n",
              "      border-color: transparent;\n",
              "      border-bottom-color: var(--fill-color);\n",
              "    }\n",
              "  }\n",
              "</style>\n",
              "\n",
              "  <script>\n",
              "    async function quickchart(key) {\n",
              "      const quickchartButtonEl =\n",
              "        document.querySelector('#' + key + ' button');\n",
              "      quickchartButtonEl.disabled = true;  // To prevent multiple clicks.\n",
              "      quickchartButtonEl.classList.add('colab-df-spinner');\n",
              "      try {\n",
              "        const charts = await google.colab.kernel.invokeFunction(\n",
              "            'suggestCharts', [key], {});\n",
              "      } catch (error) {\n",
              "        console.error('Error during call to suggestCharts:', error);\n",
              "      }\n",
              "      quickchartButtonEl.classList.remove('colab-df-spinner');\n",
              "      quickchartButtonEl.classList.add('colab-df-quickchart-complete');\n",
              "    }\n",
              "    (() => {\n",
              "      let quickchartButtonEl =\n",
              "        document.querySelector('#df-03dfb95f-2984-4107-b8b4-e2472740507c button');\n",
              "      quickchartButtonEl.style.display =\n",
              "        google.colab.kernel.accessAllowed ? 'block' : 'none';\n",
              "    })();\n",
              "  </script>\n",
              "</div>\n",
              "    </div>\n",
              "  </div>\n"
            ]
          },
          "metadata": {},
          "execution_count": 461
        }
      ]
    },
    {
      "cell_type": "markdown",
      "source": [
        "# Web scrap of the following page\n",
        "https://predoc.org/opportunities"
      ],
      "metadata": {
        "id": "OKbASGpN7GM1"
      }
    },
    {
      "cell_type": "code",
      "source": [
        "from bs4 import BeautifulSoup\n",
        "import requests\n",
        "\n",
        "url = \"https://predoc.org/opportunities\"\n",
        "response = requests.get(url, verify=False)\n",
        "soup = BeautifulSoup(response.text, 'html.parser')\n"
      ],
      "metadata": {
        "colab": {
          "base_uri": "https://localhost:8080/"
        },
        "id": "Utcvns1g7HmC",
        "outputId": "4564ed6b-834a-4c3e-80bf-5da923db6132"
      },
      "execution_count": 462,
      "outputs": [
        {
          "output_type": "stream",
          "name": "stderr",
          "text": [
            "/usr/local/lib/python3.10/dist-packages/urllib3/connectionpool.py:1095: InsecureRequestWarning: Unverified HTTPS request is being made to host 'predoc.org'. Adding certificate verification is strongly advised. See: https://urllib3.readthedocs.io/en/latest/advanced-usage.html#tls-warnings\n",
            "  warnings.warn(\n"
          ]
        }
      ]
    },
    {
      "cell_type": "code",
      "source": [
        "institutions = []\n",
        "fields = []\n",
        "deadlines = []\n",
        "researchers =[]\n",
        "\n",
        "copy_divs = soup.find_all('div', class_='copy')\n",
        "\n",
        "for copy_div in copy_divs:\n",
        "  temp_text = copy_div.get_text()\n",
        "\n",
        "  temp_researcher = temp_text[temp_text.find(\"Researcher\"):].split(\"\\n\")[0].split(\":\")[-1].strip()\n",
        "  researchers.append(temp_researcher)\n",
        "\n",
        "  temp_field = temp_text[temp_text.find(\"Field\"):].split(\"\\n\")[0].split(\":\")[-1].strip()\n",
        "  if temp_field.lower() == \"field\":\n",
        "    temp_field = \"\"\n",
        "  fields.append(temp_field)\n",
        "\n",
        "  temp_institution = temp_text[temp_text.find(\"Institution\"):].split(\"\\n\")[0].split(\":\")[-1].strip()\n",
        "  institutions.append(temp_institution)\n",
        "\n",
        "  temp_dead = temp_text[temp_text.find(\"Deadline\"):].split(\"\\n\")[0]\n",
        "  temp_dead_split = temp_dead.split(\":\")\n",
        "  if len(temp_dead_split)>1:\n",
        "    deadlines.append(temp_dead_split[1])\n",
        "  else:\n",
        "    deadlines.append(\"\")\n"
      ],
      "metadata": {
        "id": "vKhnXmzT7Hfu"
      },
      "execution_count": 463,
      "outputs": []
    },
    {
      "cell_type": "code",
      "source": [
        "copy_divs = soup.find_all('div', class_='copy')\n",
        "h_links = []\n",
        "\n",
        "for copy_div in copy_divs:\n",
        "  a_tag = copy_div.find(\"a\")\n",
        "  h_links.append(a_tag[\"href\"])"
      ],
      "metadata": {
        "id": "FCzjbPjbeDV5"
      },
      "execution_count": 464,
      "outputs": []
    },
    {
      "cell_type": "code",
      "source": [
        "import pandas as pd\n",
        "\n",
        "df_op = pd.DataFrame({\"Deadlines\": deadlines,\n",
        "                      \"Institution\":institutions,\n",
        "                      \"Researcher\": researchers,\n",
        "                      \"Field\":fields,\n",
        "                      \"Links\":h_links})\n",
        "\n",
        "df_op[df_op[\"Researcher\"] == \"Luigi Zingales\"]"
      ],
      "metadata": {
        "colab": {
          "base_uri": "https://localhost:8080/",
          "height": 112
        },
        "id": "c_OQohqHByMz",
        "outputId": "f72a2e3e-8306-44ee-bf8e-ffa8c31d54ed"
      },
      "execution_count": 465,
      "outputs": [
        {
          "output_type": "execute_result",
          "data": {
            "text/plain": [
              "                                             Deadlines  \\\n",
              "8     Initial review on October 16, rolling thereafter   \n",
              "125                                                      \n",
              "\n",
              "                                           Institution      Researcher  \\\n",
              "8    The Stigler Center for the Study of the Econom...  Luigi Zingales   \n",
              "125  University of Chicago Booth School of Business...  Luigi Zingales   \n",
              "\n",
              "                                                 Field                   Links  \n",
              "8    Finance, Microeconomics, Political Economy, Pu...  https://bit.ly/3lKJlQT  \n",
              "125  Economics, Political Economy, Finance, Public ...  https://bit.ly/3lKJlQT  "
            ],
            "text/html": [
              "\n",
              "  <div id=\"df-e18f751b-f2ce-48ba-b1da-0e097a5ebef9\" class=\"colab-df-container\">\n",
              "    <div>\n",
              "<style scoped>\n",
              "    .dataframe tbody tr th:only-of-type {\n",
              "        vertical-align: middle;\n",
              "    }\n",
              "\n",
              "    .dataframe tbody tr th {\n",
              "        vertical-align: top;\n",
              "    }\n",
              "\n",
              "    .dataframe thead th {\n",
              "        text-align: right;\n",
              "    }\n",
              "</style>\n",
              "<table border=\"1\" class=\"dataframe\">\n",
              "  <thead>\n",
              "    <tr style=\"text-align: right;\">\n",
              "      <th></th>\n",
              "      <th>Deadlines</th>\n",
              "      <th>Institution</th>\n",
              "      <th>Researcher</th>\n",
              "      <th>Field</th>\n",
              "      <th>Links</th>\n",
              "    </tr>\n",
              "  </thead>\n",
              "  <tbody>\n",
              "    <tr>\n",
              "      <th>8</th>\n",
              "      <td>Initial review on October 16, rolling thereafter</td>\n",
              "      <td>The Stigler Center for the Study of the Econom...</td>\n",
              "      <td>Luigi Zingales</td>\n",
              "      <td>Finance, Microeconomics, Political Economy, Pu...</td>\n",
              "      <td>https://bit.ly/3lKJlQT</td>\n",
              "    </tr>\n",
              "    <tr>\n",
              "      <th>125</th>\n",
              "      <td></td>\n",
              "      <td>University of Chicago Booth School of Business...</td>\n",
              "      <td>Luigi Zingales</td>\n",
              "      <td>Economics, Political Economy, Finance, Public ...</td>\n",
              "      <td>https://bit.ly/3lKJlQT</td>\n",
              "    </tr>\n",
              "  </tbody>\n",
              "</table>\n",
              "</div>\n",
              "    <div class=\"colab-df-buttons\">\n",
              "\n",
              "  <div class=\"colab-df-container\">\n",
              "    <button class=\"colab-df-convert\" onclick=\"convertToInteractive('df-e18f751b-f2ce-48ba-b1da-0e097a5ebef9')\"\n",
              "            title=\"Convert this dataframe to an interactive table.\"\n",
              "            style=\"display:none;\">\n",
              "\n",
              "  <svg xmlns=\"http://www.w3.org/2000/svg\" height=\"24px\" viewBox=\"0 -960 960 960\">\n",
              "    <path d=\"M120-120v-720h720v720H120Zm60-500h600v-160H180v160Zm220 220h160v-160H400v160Zm0 220h160v-160H400v160ZM180-400h160v-160H180v160Zm440 0h160v-160H620v160ZM180-180h160v-160H180v160Zm440 0h160v-160H620v160Z\"/>\n",
              "  </svg>\n",
              "    </button>\n",
              "\n",
              "  <style>\n",
              "    .colab-df-container {\n",
              "      display:flex;\n",
              "      gap: 12px;\n",
              "    }\n",
              "\n",
              "    .colab-df-convert {\n",
              "      background-color: #E8F0FE;\n",
              "      border: none;\n",
              "      border-radius: 50%;\n",
              "      cursor: pointer;\n",
              "      display: none;\n",
              "      fill: #1967D2;\n",
              "      height: 32px;\n",
              "      padding: 0 0 0 0;\n",
              "      width: 32px;\n",
              "    }\n",
              "\n",
              "    .colab-df-convert:hover {\n",
              "      background-color: #E2EBFA;\n",
              "      box-shadow: 0px 1px 2px rgba(60, 64, 67, 0.3), 0px 1px 3px 1px rgba(60, 64, 67, 0.15);\n",
              "      fill: #174EA6;\n",
              "    }\n",
              "\n",
              "    .colab-df-buttons div {\n",
              "      margin-bottom: 4px;\n",
              "    }\n",
              "\n",
              "    [theme=dark] .colab-df-convert {\n",
              "      background-color: #3B4455;\n",
              "      fill: #D2E3FC;\n",
              "    }\n",
              "\n",
              "    [theme=dark] .colab-df-convert:hover {\n",
              "      background-color: #434B5C;\n",
              "      box-shadow: 0px 1px 3px 1px rgba(0, 0, 0, 0.15);\n",
              "      filter: drop-shadow(0px 1px 2px rgba(0, 0, 0, 0.3));\n",
              "      fill: #FFFFFF;\n",
              "    }\n",
              "  </style>\n",
              "\n",
              "    <script>\n",
              "      const buttonEl =\n",
              "        document.querySelector('#df-e18f751b-f2ce-48ba-b1da-0e097a5ebef9 button.colab-df-convert');\n",
              "      buttonEl.style.display =\n",
              "        google.colab.kernel.accessAllowed ? 'block' : 'none';\n",
              "\n",
              "      async function convertToInteractive(key) {\n",
              "        const element = document.querySelector('#df-e18f751b-f2ce-48ba-b1da-0e097a5ebef9');\n",
              "        const dataTable =\n",
              "          await google.colab.kernel.invokeFunction('convertToInteractive',\n",
              "                                                    [key], {});\n",
              "        if (!dataTable) return;\n",
              "\n",
              "        const docLinkHtml = 'Like what you see? Visit the ' +\n",
              "          '<a target=\"_blank\" href=https://colab.research.google.com/notebooks/data_table.ipynb>data table notebook</a>'\n",
              "          + ' to learn more about interactive tables.';\n",
              "        element.innerHTML = '';\n",
              "        dataTable['output_type'] = 'display_data';\n",
              "        await google.colab.output.renderOutput(dataTable, element);\n",
              "        const docLink = document.createElement('div');\n",
              "        docLink.innerHTML = docLinkHtml;\n",
              "        element.appendChild(docLink);\n",
              "      }\n",
              "    </script>\n",
              "  </div>\n",
              "\n",
              "\n",
              "<div id=\"df-aef36eb3-d8f2-4100-aae0-9714ba164cbd\">\n",
              "  <button class=\"colab-df-quickchart\" onclick=\"quickchart('df-aef36eb3-d8f2-4100-aae0-9714ba164cbd')\"\n",
              "            title=\"Suggest charts.\"\n",
              "            style=\"display:none;\">\n",
              "\n",
              "<svg xmlns=\"http://www.w3.org/2000/svg\" height=\"24px\"viewBox=\"0 0 24 24\"\n",
              "     width=\"24px\">\n",
              "    <g>\n",
              "        <path d=\"M19 3H5c-1.1 0-2 .9-2 2v14c0 1.1.9 2 2 2h14c1.1 0 2-.9 2-2V5c0-1.1-.9-2-2-2zM9 17H7v-7h2v7zm4 0h-2V7h2v10zm4 0h-2v-4h2v4z\"/>\n",
              "    </g>\n",
              "</svg>\n",
              "  </button>\n",
              "\n",
              "<style>\n",
              "  .colab-df-quickchart {\n",
              "      --bg-color: #E8F0FE;\n",
              "      --fill-color: #1967D2;\n",
              "      --hover-bg-color: #E2EBFA;\n",
              "      --hover-fill-color: #174EA6;\n",
              "      --disabled-fill-color: #AAA;\n",
              "      --disabled-bg-color: #DDD;\n",
              "  }\n",
              "\n",
              "  [theme=dark] .colab-df-quickchart {\n",
              "      --bg-color: #3B4455;\n",
              "      --fill-color: #D2E3FC;\n",
              "      --hover-bg-color: #434B5C;\n",
              "      --hover-fill-color: #FFFFFF;\n",
              "      --disabled-bg-color: #3B4455;\n",
              "      --disabled-fill-color: #666;\n",
              "  }\n",
              "\n",
              "  .colab-df-quickchart {\n",
              "    background-color: var(--bg-color);\n",
              "    border: none;\n",
              "    border-radius: 50%;\n",
              "    cursor: pointer;\n",
              "    display: none;\n",
              "    fill: var(--fill-color);\n",
              "    height: 32px;\n",
              "    padding: 0;\n",
              "    width: 32px;\n",
              "  }\n",
              "\n",
              "  .colab-df-quickchart:hover {\n",
              "    background-color: var(--hover-bg-color);\n",
              "    box-shadow: 0 1px 2px rgba(60, 64, 67, 0.3), 0 1px 3px 1px rgba(60, 64, 67, 0.15);\n",
              "    fill: var(--button-hover-fill-color);\n",
              "  }\n",
              "\n",
              "  .colab-df-quickchart-complete:disabled,\n",
              "  .colab-df-quickchart-complete:disabled:hover {\n",
              "    background-color: var(--disabled-bg-color);\n",
              "    fill: var(--disabled-fill-color);\n",
              "    box-shadow: none;\n",
              "  }\n",
              "\n",
              "  .colab-df-spinner {\n",
              "    border: 2px solid var(--fill-color);\n",
              "    border-color: transparent;\n",
              "    border-bottom-color: var(--fill-color);\n",
              "    animation:\n",
              "      spin 1s steps(1) infinite;\n",
              "  }\n",
              "\n",
              "  @keyframes spin {\n",
              "    0% {\n",
              "      border-color: transparent;\n",
              "      border-bottom-color: var(--fill-color);\n",
              "      border-left-color: var(--fill-color);\n",
              "    }\n",
              "    20% {\n",
              "      border-color: transparent;\n",
              "      border-left-color: var(--fill-color);\n",
              "      border-top-color: var(--fill-color);\n",
              "    }\n",
              "    30% {\n",
              "      border-color: transparent;\n",
              "      border-left-color: var(--fill-color);\n",
              "      border-top-color: var(--fill-color);\n",
              "      border-right-color: var(--fill-color);\n",
              "    }\n",
              "    40% {\n",
              "      border-color: transparent;\n",
              "      border-right-color: var(--fill-color);\n",
              "      border-top-color: var(--fill-color);\n",
              "    }\n",
              "    60% {\n",
              "      border-color: transparent;\n",
              "      border-right-color: var(--fill-color);\n",
              "    }\n",
              "    80% {\n",
              "      border-color: transparent;\n",
              "      border-right-color: var(--fill-color);\n",
              "      border-bottom-color: var(--fill-color);\n",
              "    }\n",
              "    90% {\n",
              "      border-color: transparent;\n",
              "      border-bottom-color: var(--fill-color);\n",
              "    }\n",
              "  }\n",
              "</style>\n",
              "\n",
              "  <script>\n",
              "    async function quickchart(key) {\n",
              "      const quickchartButtonEl =\n",
              "        document.querySelector('#' + key + ' button');\n",
              "      quickchartButtonEl.disabled = true;  // To prevent multiple clicks.\n",
              "      quickchartButtonEl.classList.add('colab-df-spinner');\n",
              "      try {\n",
              "        const charts = await google.colab.kernel.invokeFunction(\n",
              "            'suggestCharts', [key], {});\n",
              "      } catch (error) {\n",
              "        console.error('Error during call to suggestCharts:', error);\n",
              "      }\n",
              "      quickchartButtonEl.classList.remove('colab-df-spinner');\n",
              "      quickchartButtonEl.classList.add('colab-df-quickchart-complete');\n",
              "    }\n",
              "    (() => {\n",
              "      let quickchartButtonEl =\n",
              "        document.querySelector('#df-aef36eb3-d8f2-4100-aae0-9714ba164cbd button');\n",
              "      quickchartButtonEl.style.display =\n",
              "        google.colab.kernel.accessAllowed ? 'block' : 'none';\n",
              "    })();\n",
              "  </script>\n",
              "</div>\n",
              "    </div>\n",
              "  </div>\n"
            ]
          },
          "metadata": {},
          "execution_count": 465
        }
      ]
    },
    {
      "cell_type": "code",
      "source": [
        "import numpy as np\n",
        "\n",
        "# change the deadline into the consistent form\n",
        "date_pattern = r\"(?i)((?:January|February|March|April|May|June|July|August|September|October|November|December)\\s+\\d{1,2})\"\n",
        "\n",
        "df_op['Deadline'] = df_op['Deadlines'].str.extract(date_pattern, expand=False)\n",
        "df_op.loc[df_op['Deadline'].isna() & df_op['Deadlines'].str.contains(r'(?i)rolling'), 'Deadline'] = 'Rolling'\n",
        "df_op.loc[df_op['Deadline'].isna() & df_op['Deadlines'].str.contains(r'(?i)ASAP'), 'Deadline'] = 'ASAP'"
      ],
      "metadata": {
        "id": "rJqrp2kX7HaF"
      },
      "execution_count": 466,
      "outputs": []
    },
    {
      "cell_type": "code",
      "source": [
        "df_op = df_op[(df_op[\"Deadlines\"] != \"\")]\n",
        "df_op = df_op[(df_op[\"Deadline\"] != \"\")]\n",
        "df_op = df_op.dropna(subset=\"Deadline\")"
      ],
      "metadata": {
        "id": "gzrcrFlpMnRP"
      },
      "execution_count": 467,
      "outputs": []
    },
    {
      "cell_type": "markdown",
      "source": [
        "# Sort the data"
      ],
      "metadata": {
        "id": "kFEej51DJUQ-"
      }
    },
    {
      "cell_type": "code",
      "source": [
        "import datetime\n",
        "\n",
        "def convert_deadline(deadline):\n",
        "  if deadline == \"ASAP\":\n",
        "    return pd.to_datetime(\"2099-12-31\")\n",
        "  elif deadline == \"Rolling\":\n",
        "    return pd.to_datetime(\"2098-12-31\")\n",
        "  elif pd.isna(deadline):\n",
        "    return pd.to_datetime(\"2099-12-31\")\n",
        "  else:\n",
        "    return pd.to_datetime(f\"{datetime.date.today().year} {deadline}\", format = \"%Y %B %d\")\n",
        "\n",
        "df_ra[\"deadline_index\"] = df_ra[\"Deadline\"].apply(convert_deadline)\n",
        "\n",
        "today = datetime.datetime.now().date()\n",
        "df_ra = df_ra[df_ra[\"deadline_index\"] >= pd.to_datetime(today)]\n",
        "\n",
        "# sort the data by date\n",
        "df_ra = df_ra.sort_values(by = \"deadline_index\", ascending=True)\n",
        "\n",
        "# change the order\n",
        "df_ra = df_ra[[\"Deadline\", \"Institution\", \"Researcher\", \"Field\", \"Links\", \"Deadlines\"]]\n"
      ],
      "metadata": {
        "id": "rAwINvU9JYZ9"
      },
      "execution_count": 468,
      "outputs": []
    },
    {
      "cell_type": "code",
      "source": [
        "df_op[\"deadline_index\"] = df_op[\"Deadline\"].apply(convert_deadline)\n",
        "\n",
        "\n",
        "today = datetime.datetime.now().date()\n",
        "df_op = df_op[df_op[\"deadline_index\"] >= pd.to_datetime(today)]\n",
        "\n",
        "# sort the data by date\n",
        "df_op = df_op.sort_values(by = \"deadline_index\", ascending=True)\n",
        "\n",
        "# change the order\n",
        "df_op = df_op[[\"Deadline\", \"Institution\", \"Researcher\", \"Field\", \"Links\", \"Deadlines\"]]"
      ],
      "metadata": {
        "id": "MwAWY-TFLQE9"
      },
      "execution_count": 469,
      "outputs": []
    },
    {
      "cell_type": "markdown",
      "source": [
        "# Save the output as Exce lfile"
      ],
      "metadata": {
        "id": "OKDOxxZiIL0Z"
      }
    },
    {
      "cell_type": "code",
      "source": [
        "import pandas as pd\n",
        "\n",
        "with pd.ExcelWriter(\"output.xlsx\") as writer:\n",
        "\n",
        "    # use to_excel function and specify the sheet_name and index\n",
        "    # to store the dataframe in specified sheet\n",
        "    df_op.to_excel(writer, sheet_name=\"Opportunities page\", index=False)\n",
        "    df_ra.to_excel(writer, sheet_name=\"RA Opportunities page\", index=False)\n"
      ],
      "metadata": {
        "id": "vikebRwo7Gp0"
      },
      "execution_count": 470,
      "outputs": []
    },
    {
      "cell_type": "code",
      "source": [
        "from google.colab import files\n",
        "files.download(\"output.xlsx\")\n"
      ],
      "metadata": {
        "colab": {
          "base_uri": "https://localhost:8080/",
          "height": 17
        },
        "id": "evK0n9rB4pst",
        "outputId": "c676a1bc-ab19-4978-8326-b54b71bba803"
      },
      "execution_count": 471,
      "outputs": [
        {
          "output_type": "display_data",
          "data": {
            "text/plain": [
              "<IPython.core.display.Javascript object>"
            ],
            "application/javascript": [
              "\n",
              "    async function download(id, filename, size) {\n",
              "      if (!google.colab.kernel.accessAllowed) {\n",
              "        return;\n",
              "      }\n",
              "      const div = document.createElement('div');\n",
              "      const label = document.createElement('label');\n",
              "      label.textContent = `Downloading \"${filename}\": `;\n",
              "      div.appendChild(label);\n",
              "      const progress = document.createElement('progress');\n",
              "      progress.max = size;\n",
              "      div.appendChild(progress);\n",
              "      document.body.appendChild(div);\n",
              "\n",
              "      const buffers = [];\n",
              "      let downloaded = 0;\n",
              "\n",
              "      const channel = await google.colab.kernel.comms.open(id);\n",
              "      // Send a message to notify the kernel that we're ready.\n",
              "      channel.send({})\n",
              "\n",
              "      for await (const message of channel.messages) {\n",
              "        // Send a message to notify the kernel that we're ready.\n",
              "        channel.send({})\n",
              "        if (message.buffers) {\n",
              "          for (const buffer of message.buffers) {\n",
              "            buffers.push(buffer);\n",
              "            downloaded += buffer.byteLength;\n",
              "            progress.value = downloaded;\n",
              "          }\n",
              "        }\n",
              "      }\n",
              "      const blob = new Blob(buffers, {type: 'application/binary'});\n",
              "      const a = document.createElement('a');\n",
              "      a.href = window.URL.createObjectURL(blob);\n",
              "      a.download = filename;\n",
              "      div.appendChild(a);\n",
              "      a.click();\n",
              "      div.remove();\n",
              "    }\n",
              "  "
            ]
          },
          "metadata": {}
        },
        {
          "output_type": "display_data",
          "data": {
            "text/plain": [
              "<IPython.core.display.Javascript object>"
            ],
            "application/javascript": [
              "download(\"download_6555caef-5f96-4384-9411-ad5bdeee350e\", \"output.xlsx\", 15485)"
            ]
          },
          "metadata": {}
        }
      ]
    },
    {
      "cell_type": "markdown",
      "source": [
        "# Extra Codes\n",
        "Opportunities page (with html header)"
      ],
      "metadata": {
        "id": "7Q8b8oMp74nM"
      }
    },
    {
      "cell_type": "code",
      "source": [
        "# In case of using html headers\n",
        "\n",
        "from bs4 import BeautifulSoup\n",
        "import requests\n",
        "\n",
        "url = \"https://predoc.org/opportunities\"\n",
        "response = requests.get(url, verify=False)\n",
        "soup = BeautifulSoup(response.text, 'html.parser')\n"
      ],
      "metadata": {
        "colab": {
          "base_uri": "https://localhost:8080/"
        },
        "id": "7S8Ti9iKf2ml",
        "outputId": "f2c2e212-7613-4235-d9da-56ac901912fd"
      },
      "execution_count": 472,
      "outputs": [
        {
          "output_type": "stream",
          "name": "stderr",
          "text": [
            "/usr/local/lib/python3.10/dist-packages/urllib3/connectionpool.py:1095: InsecureRequestWarning: Unverified HTTPS request is being made to host 'predoc.org'. Adding certificate verification is strongly advised. See: https://urllib3.readthedocs.io/en/latest/advanced-usage.html#tls-warnings\n",
            "  warnings.warn(\n"
          ]
        }
      ]
    },
    {
      "cell_type": "code",
      "source": [
        "# All the values can be single or multiples\n",
        "# The text data are from div (class = \"copy\")\n",
        "# I assumed that the information posted in opportunities are aligned in the same format\n",
        "# I got the hyperlinks from div.copy a.general-link\n",
        "\n",
        "# the code for the link needs to be corrected\n",
        "\n",
        "copy_divs = soup.find_all('div', class_='copy')\n",
        "\n",
        "institutions = []\n",
        "for copy_div in copy_divs:\n",
        "    p_tags = copy_div.find_all(\"p\")\n",
        "    for p_tag in p_tags:\n",
        "        strong_tags = p_tag.find_all('strong')\n",
        "        for strong_tag in strong_tags:\n",
        "          if \"Institution\" in strong_tag.get_text():\n",
        "            em_tag = strong_tag.find_next(\"em\")\n",
        "            institutions.append(em_tag.get_text())\n",
        "            #print(em_tag.get_text())"
      ],
      "metadata": {
        "id": "qGOtUKcC1PUK"
      },
      "execution_count": 473,
      "outputs": []
    },
    {
      "cell_type": "code",
      "source": [
        "\n"
      ],
      "metadata": {
        "id": "3fNwmEw50Q4A"
      },
      "execution_count": 473,
      "outputs": []
    },
    {
      "cell_type": "code",
      "source": [
        "# Deadlines\n",
        "# nested under div > p > strong > Deadline\n",
        "\n",
        "copy_divs = soup.find_all('div', class_='copy')\n",
        "\n",
        "deadlines = []\n",
        "\n",
        "for copy_div in copy_divs:\n",
        "    p_tags = copy_div.find_all(\"p\")\n",
        "    for p_tag in p_tags:\n",
        "        strong_tags = p_tag.find_all('strong')\n",
        "        for strong_tag in strong_tags:\n",
        "          # print(strong_tag.get_text(), strong_tag.next_sibling, \"\\n\")\n",
        "          if \"Deadline\" in strong_tag.get_text():\n",
        "            # print(strong_tag.next_sibling)\n",
        "            next_sibling = strong_tag.next_sibling\n",
        "            if next_sibling:\n",
        "              deadlines.append(next_sibling.strip())\n",
        "            else:\n",
        "              deadlines.append(\"\")  # Add an empty string if \"researchers\" is not found\n",
        "\n",
        "fields = []\n",
        "\n",
        "for copy_div in copy_divs:\n",
        "    p_tags = copy_div.find_all(\"p\")\n",
        "    for p_tag in p_tags:\n",
        "        strong_tags = p_tag.find_all('strong')\n",
        "        for strong_tag in strong_tags:\n",
        "          # print(strong_tag.get_text(), strong_tag.next_sibling, \"\\n\")\n",
        "          if \"Field\" in strong_tag.get_text():\n",
        "            # print(strong_tag.next_sibling)\n",
        "            next_sibling = strong_tag.next_sibling\n",
        "            if next_sibling:\n",
        "              fields.append(next_sibling.strip().strip(\":\"))\n",
        "            else:\n",
        "              fields.append(\"\")  # Add an empty string if \"researchers\" is not found\n",
        "\n",
        "\n",
        "print(len(fields))\n",
        "\n",
        "\n",
        "researchers = []\n",
        "for copy_div in copy_divs:\n",
        "    p_tags = copy_div.find_all(\"p\")\n",
        "    for p_tag in p_tags:\n",
        "      #print(p_tag.get_text(), \"\\n\")\n",
        "      if \"Researcher\" in p_tag.get_text() or \"Researcher(s)\" in p_tag.get_text():\n",
        "        strong_tags = p_tag.find_all('strong')\n",
        "        for strong_tag in strong_tags:\n",
        "          if \"Researcher\" in strong_tag.get_text() or \"Researcher(s)\" in strong_tag.get_text() :\n",
        "              next_sibling = strong_tag.next_sibling\n",
        "              researchers.append(next_sibling.strip().strip(\":\").strip(\"()\"))\n",
        "      else:\n",
        "        researchers.append(\"None\")\n",
        "\n",
        "\n",
        "links = []\n",
        "a_tags = soup.select('div.copy a.general-link')\n",
        "for a_tag in a_tags:\n",
        "    # print(a_tag[\"href\"])\n",
        "    links.append(a_tag[\"href\"])\n"
      ],
      "metadata": {
        "colab": {
          "base_uri": "https://localhost:8080/"
        },
        "id": "LvAQMqZo0Qyl",
        "outputId": "6e234984-1ef0-40f2-f268-51b72ca4f9d6"
      },
      "execution_count": 474,
      "outputs": [
        {
          "output_type": "stream",
          "name": "stdout",
          "text": [
            "58\n"
          ]
        }
      ]
    }
  ]
}